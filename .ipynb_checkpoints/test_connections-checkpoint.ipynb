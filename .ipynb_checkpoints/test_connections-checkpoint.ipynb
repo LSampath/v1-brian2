{
 "cells": [
  {
   "cell_type": "code",
   "execution_count": 1,
   "metadata": {},
   "outputs": [],
   "source": [
    "import scipy.ndimage as sp\n",
    "import numpy as np\n",
    "import pylab"
   ]
  },
  {
   "cell_type": "markdown",
   "metadata": {},
   "source": [
    "FUNCTIONS"
   ]
  },
  {
   "cell_type": "code",
   "execution_count": 34,
   "metadata": {},
   "outputs": [],
   "source": [
    "def sparsenMatrix(baseMatrix, pConn):\n",
    "    weightMatrix = np.zeros(baseMatrix.shape)\n",
    "    numWeights = 0\n",
    "    numTargetWeights = baseMatrix.shape[0] * baseMatrix.shape[1] * pConn\n",
    "    weightList = [0]*int(numTargetWeights)\n",
    "    while numWeights < numTargetWeights:\n",
    "        idx = (np.int32(np.random.rand()*baseMatrix.shape[0]), np.int32(np.random.rand()*baseMatrix.shape[1]))\n",
    "        if not (weightMatrix[idx]):\n",
    "            weightMatrix[idx] = baseMatrix[idx]\n",
    "            weightList[numWeights] = (idx[0], idx[1], baseMatrix[idx])\n",
    "            numWeights += 1\n",
    "    return weightMatrix, weightList"
   ]
  },
  {
   "cell_type": "code",
   "execution_count": null,
   "metadata": {},
   "outputs": [],
   "source": []
  },
  {
   "cell_type": "code",
   "execution_count": null,
   "metadata": {},
   "outputs": [],
   "source": []
  },
  {
   "cell_type": "code",
   "execution_count": 35,
   "metadata": {},
   "outputs": [],
   "source": [
    "nInput = 784\n",
    "nE = 400\n",
    "nI = nE \n",
    "dataPath = './test_random/'\n",
    "weight = {}\n",
    "weight['ee_input'] = 0.3 \n",
    "weight['ei_input'] = 0.2 \n",
    "weight['ee'] = 0.1\n",
    "weight['ei'] = 10.4\n",
    "weight['ie'] = 17.0\n",
    "weight['ii'] = 0.4\n",
    "pConn = {}\n",
    "pConn['ee_input'] = 1.0 \n",
    "pConn['ei_input'] = 0.1 \n",
    "pConn['ee'] = 1.0\n",
    "pConn['ei'] = 0.0025\n",
    "pConn['ie'] = 0.9\n",
    "pConn['ii'] = 0.1"
   ]
  },
  {
   "cell_type": "code",
   "execution_count": null,
   "metadata": {},
   "outputs": [],
   "source": []
  },
  {
   "cell_type": "code",
   "execution_count": 36,
   "metadata": {},
   "outputs": [
    {
     "name": "stdout",
     "output_type": "stream",
     "text": [
      "create random connection matrices\n"
     ]
    }
   ],
   "source": [
    "print('create random connection matrices')\n",
    "connNameList = ['XeAe']\n",
    "for name in connNameList:\n",
    "    weightMatrix = np.random.random((nInput, nE)) + 0.01\n",
    "    weightMatrix *= weight['ee_input']\n",
    "    if pConn['ee_input'] < 1.0:\n",
    "        weightMatrix, weightList = sparsenMatrix(weightMatrix, pConn['ee_input'])\n",
    "    else:\n",
    "        weightList = [(i, j, weightMatrix[i,j]) for j in range(nE) for i in range(nInput)]\n",
    "    print('save connection matrix', name)\n",
    "    np.save(dataPath+name, weightList)"
   ]
  },
  {
   "cell_type": "code",
   "execution_count": 37,
   "metadata": {},
   "outputs": [
    {
     "name": "stdout",
     "output_type": "stream",
     "text": [
      "create connection matrices from E->I which are purely random\n",
      "save connection matrix XeAi\n"
     ]
    }
   ],
   "source": [
    "print('create connection matrices from E->I which are purely random')\n",
    "connNameList = ['XeAi']\n",
    "for name in connNameList:\n",
    "    weightMatrix = np.random.random((nInput, nI))\n",
    "    weightMatrix *= weight['ei_input']\n",
    "    weightMatrix, weightList = sparsenMatrix(weightMatrix, pConn['ei_input'])\n",
    "    print('save connection matrix', name)\n",
    "    np.save(dataPath+name, weightList)"
   ]
  },
  {
   "cell_type": "code",
   "execution_count": 38,
   "metadata": {},
   "outputs": [
    {
     "name": "stdout",
     "output_type": "stream",
     "text": [
      "create connection matrices from E->I which are purely random\n",
      "save connection matrix AeAi\n"
     ]
    }
   ],
   "source": [
    "print('create connection matrices from E->I which are purely random')\n",
    "connNameList = ['AeAi']\n",
    "for name in connNameList:\n",
    "    if nE == nI:\n",
    "        weightList = [(i, i, weight['ei']) for i in range(nE)]\n",
    "    else:\n",
    "        weightMatrix = np.random.random((nE, nI))\n",
    "        weightMatrix *= weight['ei']\n",
    "        weightMatrix, weightList = sparsenMatrix(weightMatrix, pConn['ei'])\n",
    "    print('save connection matrix', name)\n",
    "    np.save(dataPath+name, weightList)"
   ]
  },
  {
   "cell_type": "code",
   "execution_count": null,
   "metadata": {},
   "outputs": [],
   "source": [
    "print('create connection matrices from I->E which are purely random')\n",
    "connNameList = ['AiAe']\n",
    "for name in connNameList:\n",
    "    if nE == nI:\n",
    "        weightMatrix = np.ones((nI, nE))\n",
    "        weightMatrix *= weight['ie']\n",
    "        for i in xrange(nI):\n",
    "            weightMatrix[i,i] = 0\n",
    "        weightList = [(i, j, weightMatrix[i,j]) for i in xrange(nI) for j in xrange(nE)]\n",
    "    else:\n",
    "        weightMatrix = np.random.random((nI, nE))\n",
    "        weightMatrix *= weight['ie']\n",
    "        weightMatrix, weightList = sparsenMatrix(weightMatrix, pConn['ie'])\n",
    "    print('save connection matrix', name)\n",
    "    np.save(dataPath+name, weightList)"
   ]
  },
  {
   "cell_type": "code",
   "execution_count": null,
   "metadata": {},
   "outputs": [],
   "source": []
  },
  {
   "cell_type": "code",
   "execution_count": 19,
   "metadata": {},
   "outputs": [
    {
     "data": {
      "text/plain": [
       "0.2"
      ]
     },
     "execution_count": 19,
     "metadata": {},
     "output_type": "execute_result"
    }
   ],
   "source": [
    "weight['ei_input']"
   ]
  },
  {
   "cell_type": "code",
   "execution_count": 21,
   "metadata": {},
   "outputs": [],
   "source": [
    "weightMatrix = np.zeros((400,400))"
   ]
  },
  {
   "cell_type": "code",
   "execution_count": 29,
   "metadata": {},
   "outputs": [],
   "source": [
    "weightMatrix[0][1] = 5"
   ]
  },
  {
   "cell_type": "code",
   "execution_count": 30,
   "metadata": {},
   "outputs": [],
   "source": [
    "idx = (np.int32(np.random.rand()*400), np.int32(np.random.rand()*400))"
   ]
  },
  {
   "cell_type": "code",
   "execution_count": 31,
   "metadata": {},
   "outputs": [
    {
     "data": {
      "text/plain": [
       "(356, 70)"
      ]
     },
     "execution_count": 31,
     "metadata": {},
     "output_type": "execute_result"
    }
   ],
   "source": [
    "idx"
   ]
  },
  {
   "cell_type": "code",
   "execution_count": 33,
   "metadata": {},
   "outputs": [],
   "source": [
    "if not (weightMatrix[(0,1)]):\n",
    "    print('wer')"
   ]
  },
  {
   "cell_type": "code",
   "execution_count": 17,
   "metadata": {},
   "outputs": [],
   "source": [
    "a = np.zeros((400,400)).shape"
   ]
  },
  {
   "cell_type": "code",
   "execution_count": 18,
   "metadata": {},
   "outputs": [
    {
     "ename": "TypeError",
     "evalue": "tuple indices must be integers or slices, not tuple",
     "output_type": "error",
     "traceback": [
      "\u001b[1;31m---------------------------------------------------------------------------\u001b[0m",
      "\u001b[1;31mTypeError\u001b[0m                                 Traceback (most recent call last)",
      "\u001b[1;32m<ipython-input-18-43fd18d82c03>\u001b[0m in \u001b[0;36m<module>\u001b[1;34m\u001b[0m\n\u001b[1;32m----> 1\u001b[1;33m \u001b[1;32mif\u001b[0m \u001b[1;32mnot\u001b[0m \u001b[0ma\u001b[0m\u001b[1;33m[\u001b[0m\u001b[1;33m(\u001b[0m\u001b[1;36m3\u001b[0m\u001b[1;33m,\u001b[0m\u001b[1;36m4\u001b[0m\u001b[1;33m)\u001b[0m\u001b[1;33m]\u001b[0m\u001b[1;33m:\u001b[0m\u001b[1;33m\u001b[0m\u001b[1;33m\u001b[0m\u001b[0m\n\u001b[0m\u001b[0;32m      2\u001b[0m     \u001b[0mprint\u001b[0m\u001b[1;33m(\u001b[0m\u001b[1;34m'not'\u001b[0m\u001b[1;33m)\u001b[0m\u001b[1;33m\u001b[0m\u001b[1;33m\u001b[0m\u001b[0m\n",
      "\u001b[1;31mTypeError\u001b[0m: tuple indices must be integers or slices, not tuple"
     ]
    }
   ],
   "source": [
    "if not a[(3,4)]:\n",
    "    print('not')"
   ]
  },
  {
   "cell_type": "code",
   "execution_count": 40,
   "metadata": {},
   "outputs": [],
   "source": [
    "weightMatrix = np.ones((400,400))\n",
    "weightMatrix *= weight['ie']"
   ]
  },
  {
   "cell_type": "code",
   "execution_count": 41,
   "metadata": {},
   "outputs": [
    {
     "data": {
      "text/plain": [
       "array([[17., 17., 17., ..., 17., 17., 17.],\n",
       "       [17., 17., 17., ..., 17., 17., 17.],\n",
       "       [17., 17., 17., ..., 17., 17., 17.],\n",
       "       ...,\n",
       "       [17., 17., 17., ..., 17., 17., 17.],\n",
       "       [17., 17., 17., ..., 17., 17., 17.],\n",
       "       [17., 17., 17., ..., 17., 17., 17.]])"
      ]
     },
     "execution_count": 41,
     "metadata": {},
     "output_type": "execute_result"
    }
   ],
   "source": [
    "weightMatrix"
   ]
  },
  {
   "cell_type": "code",
   "execution_count": null,
   "metadata": {},
   "outputs": [],
   "source": []
  },
  {
   "cell_type": "code",
   "execution_count": null,
   "metadata": {},
   "outputs": [],
   "source": []
  },
  {
   "cell_type": "code",
   "execution_count": null,
   "metadata": {},
   "outputs": [],
   "source": []
  }
 ],
 "metadata": {
  "kernelspec": {
   "display_name": "SNN simulator",
   "language": "python",
   "name": "sim"
  },
  "language_info": {
   "codemirror_mode": {
    "name": "ipython",
    "version": 3
   },
   "file_extension": ".py",
   "mimetype": "text/x-python",
   "name": "python",
   "nbconvert_exporter": "python",
   "pygments_lexer": "ipython3",
   "version": "3.6.8"
  }
 },
 "nbformat": 4,
 "nbformat_minor": 2
}
