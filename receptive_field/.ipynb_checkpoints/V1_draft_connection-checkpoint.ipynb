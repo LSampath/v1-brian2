{
 "cells": [
  {
   "cell_type": "code",
   "execution_count": 1,
   "metadata": {},
   "outputs": [],
   "source": [
    "import numpy as np\n",
    "import matplotlib.cm as cmap\n",
    "import time\n",
    "import os.path\n",
    "import scipy\n",
    "import pickle as pickle\n",
    "from struct import unpack\n",
    "from brian2 import *\n",
    "import brian2\n",
    "from brian2tools import *\n",
    "from PIL import Image"
   ]
  },
  {
   "cell_type": "code",
   "execution_count": 15,
   "metadata": {},
   "outputs": [],
   "source": [
    "# initial random weights\n",
    "dataPath = './initial_weights/'\n",
    "\n",
    "# excitatory between L3 neurons\n",
    "# excitatoin between L3 and L2\n",
    "# inhibition between L2 and L3\n",
    "\n",
    "length =50\n",
    "n_LGN = length*length\n",
    "n_L6 = n_LGN\n",
    "n_L6i = n_L6\n",
    "n_L4 = (length-2)*(length-2)\n",
    " \n",
    "weight = {}\n",
    "weight['LGN_L6'] = 26.                      # excitation 3 parallel, one to one connection\n",
    "weight['L6_L4'] = 39.                       # excitation one to one connection\n",
    "weight['L6_L6i'] = 39.                      # excitatory one to one connection\n",
    "weight['L6i_L4'] = 0.004                    # inhibitory one to all connection\n",
    "\n",
    "# weight['input_L6'] = 78.                      # excitation one to one connection\n",
    "# weight['L3_L3'] = 0.2                         # excitation one to all horizontal connection\n",
    "# weight['L3_L2'] = 10.4                        # excitation one to one connection\n",
    "# weight['L2_L3'] = 17.0                        # inhibition one to all backward connection (except predecessor)"
   ]
  },
  {
   "cell_type": "code",
   "execution_count": 16,
   "metadata": {},
   "outputs": [],
   "source": [
    "# LGN to L6 connections\n",
    "# one to one\n",
    "\n",
    "weightList = np.random.random(n_LGN) * 5\n",
    "weightList += weight['LGN_L6']\n",
    "weights = [(i, i, weightList[i]) for i in range(n_LGN)]\n",
    "np.save(dataPath + 'LGN_L6', weights)"
   ]
  },
  {
   "cell_type": "code",
   "execution_count": 17,
   "metadata": {},
   "outputs": [],
   "source": [
    "# L6 to L4 direct connection\n",
    "# one to one\n",
    "\n",
    "weightList = np.random.random(n_L4) * 3\n",
    "weightList += weight['L6_L4']\n",
    "weights = []\n",
    "for i in range(1, length-1):\n",
    "    for j in range(1, length-1):\n",
    "        weights.append(\n",
    "            (i*length+j, (i-1)*(length-2)+(j-1), weightList[(i-1)*(length-2)+(j-1)])\n",
    "        )\n",
    "np.save(dataPath + 'L6_L4', weights)"
   ]
  },
  {
   "cell_type": "code",
   "execution_count": 18,
   "metadata": {},
   "outputs": [],
   "source": [
    "# L6 excitatory to L6 inhibition connection\n",
    "# one to one\n",
    "\n",
    "weightList = np.random.random(n_L6) * 5\n",
    "weightList += weight['L6_L6i']\n",
    "weights = [(i, i, weightList[i]) for i in range(n_L6)]\n",
    "np.save(dataPath + 'L6_L6i', weights)"
   ]
  },
  {
   "cell_type": "code",
   "execution_count": 19,
   "metadata": {},
   "outputs": [],
   "source": [
    "# L6 inhibition to L4 excitatory connection\n",
    "# one to many\n",
    "\n",
    "weightList = np.random.random((n_L6i, n_L6i)) * 5\n",
    "weightList += weight['L6i_L4']\n",
    "weights = []\n",
    "for i in range(1, length-1):\n",
    "    for j in range(1, length-1):\n",
    "        weights.extend([\n",
    "            ( (i-1)*length+(j-1), (i-1)*(length-2)+(j-1), weightList[i-1,j-1] ),\n",
    "            ( (i-1)*length+(j)  , (i-1)*(length-2)+(j-1), weightList[i-1,j  ] ),\n",
    "            ( (i-1)*length+(j+1), (i-1)*(length-2)+(j-1), weightList[i-1,j+1] ),\n",
    "            ( (i)*length+(j-1)  , (i-1)*(length-2)+(j-1), weightList[i  ,j-1] ),\n",
    "            ( (i)*length+(j+1)  , (i-1)*(length-2)+(j-1), weightList[i  ,j+1] ),\n",
    "            ( (i+1)*length+(j-1), (i-1)*(length-2)+(j-1), weightList[i+1,j-1] ),\n",
    "            ( (i+1)*length+(j)  , (i-1)*(length-2)+(j-1), weightList[i+1,j  ] ),\n",
    "            ( (i+1)*length+(j+1), (i-1)*(length-2)+(j-1), weightList[i+1,j+1] )\n",
    "        ])\n",
    "np.save(dataPath + 'L6i_L4', weights)"
   ]
  },
  {
   "cell_type": "code",
   "execution_count": null,
   "metadata": {},
   "outputs": [],
   "source": []
  },
  {
   "cell_type": "code",
   "execution_count": null,
   "metadata": {},
   "outputs": [],
   "source": []
  }
 ],
 "metadata": {
  "kernelspec": {
   "display_name": "SNN simulator",
   "language": "python",
   "name": "sim"
  },
  "language_info": {
   "codemirror_mode": {
    "name": "ipython",
    "version": 3
   },
   "file_extension": ".py",
   "mimetype": "text/x-python",
   "name": "python",
   "nbconvert_exporter": "python",
   "pygments_lexer": "ipython3",
   "version": "3.6.8"
  }
 },
 "nbformat": 4,
 "nbformat_minor": 2
}
