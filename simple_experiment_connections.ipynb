{
 "cells": [
  {
   "cell_type": "code",
   "execution_count": 7,
   "metadata": {},
   "outputs": [],
   "source": [
    "import numpy as np\n",
    "import matplotlib.cm as cmap\n",
    "import time\n",
    "import os.path\n",
    "import scipy\n",
    "import pickle as pickle\n",
    "from struct import unpack\n",
    "from brian2 import *\n",
    "import brian2\n",
    "from brian2tools import *"
   ]
  },
  {
   "cell_type": "code",
   "execution_count": 8,
   "metadata": {},
   "outputs": [],
   "source": [
    "def sparsenMatrix(baseMatrix, pConn):\n",
    "    weightMatrix = np.zeros(baseMatrix.shape)\n",
    "    numWeights = 0\n",
    "    numTargetWeights = baseMatrix.shape[0] * baseMatrix.shape[1] * pConn\n",
    "    weightList = [0]*int(numTargetWeights)\n",
    "    while numWeights < numTargetWeights:\n",
    "        idx = (np.int32(np.random.rand()*baseMatrix.shape[0]), np.int32(np.random.rand()*baseMatrix.shape[1]))\n",
    "        if not (weightMatrix[idx]):\n",
    "            weightMatrix[idx] = baseMatrix[idx]\n",
    "            weightList[numWeights] = (idx[0], idx[1], baseMatrix[idx])\n",
    "            numWeights += 1\n",
    "    return weightMatrix, weightList"
   ]
  },
  {
   "cell_type": "code",
   "execution_count": 9,
   "metadata": {},
   "outputs": [],
   "source": [
    "nInput = 784\n",
    "nE = 16\n",
    "nI = nE \n",
    "dataPath = './experiment/random/'                   # random weight data?\n",
    "weight = {}\n",
    "weight['ee_input'] = 0.3                      # used\n",
    "weight['ei_input'] = 0.2                    \n",
    "weight['ee'] = 0.1                      \n",
    "weight['ei'] = 10.4                           # used\n",
    "weight['ie'] = 17.0                           # used\n",
    "weight['ii'] = 0.4\n",
    "pConn = {}\n",
    "pConn['ee_input'] = 1.0                       # used\n",
    "pConn['ei_input'] = 0.1 \n",
    "pConn['ee'] = 1.0\n",
    "pConn['ei'] = 0.0025                          # used\n",
    "pConn['ie'] = 0.9                             # used\n",
    "pConn['ii'] = 0.1"
   ]
  },
  {
   "cell_type": "code",
   "execution_count": 10,
   "metadata": {},
   "outputs": [
    {
     "name": "stdout",
     "output_type": "stream",
     "text": [
      "create random connection matrices\n",
      "save connection matrix XeAe\n"
     ]
    }
   ],
   "source": [
    "print('create random connection matrices')\n",
    "connNameList = ['XeAe']\n",
    "for name in connNameList:\n",
    "    weightMatrix = np.random.random((nInput, nE)) + 0.01\n",
    "    weightMatrix *= weight['ee_input']\n",
    "    if pConn['ee_input'] < 1.0:\n",
    "        weightMatrix, weightList = sparsenMatrix(weightMatrix, pConn['ee_input'])\n",
    "    else:\n",
    "        weightList = [(i, j, weightMatrix[i,j]) for j in range(nE) for i in range(nInput)]\n",
    "    print('save connection matrix', name)\n",
    "    np.save(dataPath+name, weightList)"
   ]
  },
  {
   "cell_type": "code",
   "execution_count": 11,
   "metadata": {},
   "outputs": [
    {
     "name": "stdout",
     "output_type": "stream",
     "text": [
      "create connection matrices from E->I which are purely random\n",
      "save connection matrix AeAi\n"
     ]
    }
   ],
   "source": [
    "print('create connection matrices from E->I which are purely random')\n",
    "connNameList = ['AeAi']\n",
    "for name in connNameList:\n",
    "    if nE == nI:\n",
    "        weightList = [(i, i, weight['ei']) for i in range(nE)]\n",
    "    else:\n",
    "        weightMatrix = np.random.random((nE, nI))\n",
    "        weightMatrix *= weight['ei']\n",
    "        weightMatrix, weightList = sparsenMatrix(weightMatrix, pConn['ei'])\n",
    "    print('save connection matrix', name)\n",
    "    np.save(dataPath+name, weightList)"
   ]
  },
  {
   "cell_type": "code",
   "execution_count": 12,
   "metadata": {},
   "outputs": [
    {
     "name": "stdout",
     "output_type": "stream",
     "text": [
      "create connection matrices from I->E which are purely random\n",
      "save connection matrix AiAe\n"
     ]
    }
   ],
   "source": [
    "print('create connection matrices from I->E which are purely random')\n",
    "connNameList = ['AiAe']\n",
    "for name in connNameList:\n",
    "    if nE == nI:\n",
    "        weightMatrix = np.ones((nI, nE))\n",
    "        weightMatrix *= weight['ie']\n",
    "        for i in range(nI):\n",
    "            weightMatrix[i,i] = 0\n",
    "        weightList = [(i, j, weightMatrix[i,j]) for i in range(nI) for j in range(nE)]\n",
    "    else:\n",
    "        weightMatrix = np.random.random((nI, nE))\n",
    "        weightMatrix *= weight['ie']\n",
    "        weightMatrix, weightList = sparsenMatrix(weightMatrix, pConn['ie'])\n",
    "    print('save connection matrix', name)\n",
    "    np.save(dataPath+name, weightList)"
   ]
  },
  {
   "cell_type": "code",
   "execution_count": null,
   "metadata": {},
   "outputs": [],
   "source": []
  },
  {
   "cell_type": "code",
   "execution_count": null,
   "metadata": {},
   "outputs": [],
   "source": []
  },
  {
   "cell_type": "code",
   "execution_count": null,
   "metadata": {},
   "outputs": [],
   "source": []
  },
  {
   "cell_type": "code",
   "execution_count": null,
   "metadata": {},
   "outputs": [],
   "source": []
  }
 ],
 "metadata": {
  "kernelspec": {
   "display_name": "SNN simulator",
   "language": "python",
   "name": "sim"
  },
  "language_info": {
   "codemirror_mode": {
    "name": "ipython",
    "version": 3
   },
   "file_extension": ".py",
   "mimetype": "text/x-python",
   "name": "python",
   "nbconvert_exporter": "python",
   "pygments_lexer": "ipython3",
   "version": "3.6.8"
  }
 },
 "nbformat": 4,
 "nbformat_minor": 2
}
