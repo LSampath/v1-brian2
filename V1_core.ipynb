{
 "cells": [
  {
   "cell_type": "code",
   "execution_count": 1,
   "metadata": {},
   "outputs": [],
   "source": [
    "import numpy as np\n",
    "import matplotlib.cm as cmap\n",
    "import matplotlib.pyplot as plt\n",
    "import time\n",
    "import os.path\n",
    "import scipy\n",
    "import pickle as pickle\n",
    "from struct import unpack\n",
    "from brian2 import *\n",
    "import brian2\n",
    "from brian2tools import *\n",
    "from PIL import Image\n",
    "import scipy.signal as signal\n",
    "import warnings\n",
    "warnings.simplefilter('ignore')"
   ]
  },
  {
   "cell_type": "code",
   "execution_count": 14,
   "metadata": {},
   "outputs": [],
   "source": [
    "def plot_spike_counts(name, layer_shape, fig_num):\n",
    "    x_L = layer_shape[0]\n",
    "    y_L = layer_shape[1]\n",
    "    spike_copy = np.copy(spike_monitors[name].count)\n",
    "    spike_matrix = np.zeros(layer_shape)\n",
    "    for i in range(y_L):\n",
    "        for j in range(x_L):\n",
    "            spike_matrix[i,j] = spike_copy[i*x_L + j]\n",
    "\n",
    "    unique_list = unique(spike_matrix)\n",
    "    max_val = max(unique_list)\n",
    "    min_val = min(unique_list)\n",
    "\n",
    "    fig = figure(fig_num, figsize = (10, 10))\n",
    "    im2 = imshow(spike_matrix, interpolation = \"nearest\", vmin = min_val, vmax = max_val , cmap = cmap.get_cmap('hot_r'))\n",
    "    colorbar(im2)\n",
    "    title('number of spikes - ' + name + ' layer')"
   ]
  },
  {
   "cell_type": "code",
   "execution_count": 2,
   "metadata": {},
   "outputs": [],
   "source": [
    "def get_matrix_from_file(fileName, shape):\n",
    "    readout = np.load(fileName)\n",
    "    print(readout.shape, fileName)\n",
    "    value_arr = np.zeros(shape)\n",
    "    if not readout.shape == (0,):\n",
    "        value_arr[np.int32(readout[:,0]), np.int32(readout[:,1])] = readout[:,2]\n",
    "    return value_arr"
   ]
  },
  {
   "cell_type": "code",
   "execution_count": 3,
   "metadata": {},
   "outputs": [],
   "source": [
    "def gaussian2D(x, y, sigma):\n",
    "    return (1.0/(1*math.pi*(sigma**2)))*math.exp(-(1.0/((sigma**2)))*(x**2 + y**2))\n",
    "#     return (1.0/(1*math.pi*(sigma**2)))*math.exp(-(1.0/(2*math.pi*(sigma**2)))*(x**2 + y**2))\n",
    "\n",
    "def mexicanHat(x,y,sigma1,sigma2): \n",
    "    return gaussian2D(x,y,sigma1) - gaussian2D(x,y,sigma2)\n",
    "\n",
    "def receptiveFieldMatrix(func):\n",
    "    h = 11\n",
    "    g = np.zeros((h,h))\n",
    "    for xi in range(0,h):\n",
    "        for yi in range(0,h):\n",
    "            x = xi-int(h/2)\n",
    "            y = yi-int(h/2)\n",
    "            g[xi, yi] = func(x,y);\n",
    "    return g"
   ]
  },
  {
   "cell_type": "code",
   "execution_count": null,
   "metadata": {},
   "outputs": [],
   "source": []
  },
  {
   "cell_type": "code",
   "execution_count": null,
   "metadata": {},
   "outputs": [],
   "source": []
  },
  {
   "cell_type": "markdown",
   "metadata": {},
   "source": [
    "# CODE"
   ]
  },
  {
   "cell_type": "code",
   "execution_count": 18,
   "metadata": {},
   "outputs": [],
   "source": [
    "stimuli_file = './pic_120_italic.tif'\n",
    "weight_path = './initial_weights/'\n",
    "save_path = './saved_weights/'\n",
    "\n",
    "fig_num = 1\n",
    "\n",
    "length = 120\n",
    "field_size = 3                     # 2/3/4/5/6\n",
    "\n",
    "w_s = field_size*1                # simple cell width\n",
    "l_s = field_size*2                # simple_cell_length\n",
    "\n",
    "n_LGN = length*length\n",
    "n_L4 = (length//(w_s*2))*(length//l_s)\n",
    "\n",
    "num_epochs = 10\n",
    "\n",
    "single_example_time = 0.35 * second\n",
    "resting_time = 0.15 * second\n",
    "\n",
    "## only if normalization is used\n",
    "# weight = {}\n",
    "# weight['input_L3'] = 70.                      # excitation one to one connection\n",
    "# weight['L3_L3'] = 0.2                         # excitation one to all horizontal connection\n",
    "# weight['L3_L2'] = 10.4                        # excitation one to one connection\n",
    "# weight['L2_L3'] = 17.0                        # inhibition one to all backward connection (except predecessor)\n",
    "\n",
    "delay = {}\n",
    "delay = (0*ms, 10*ms)              # min and max delay\n",
    "minDelay = delay[0]\n",
    "maxDelay = delay[1]\n",
    "deltaDelay = maxDelay - minDelay\n",
    "\n",
    "# neural model parameters\n",
    "v_rest_e = -65. * mV\n",
    "v_rest_i = -60. * mV\n",
    "v_reset_e = -65. * mV\n",
    "v_reset_i = -45. * mV\n",
    "v_thresh_e = -52. * mV\n",
    "v_thresh_i = -40. * mV\n",
    "refrac_e = 5. * ms\n",
    "refrac_i = 2. * ms\n",
    "tc_theta = 1e7 * ms\n",
    "theta_plus_e = 0.05 * mV\n",
    "offset = 20.0 * mV\n",
    "\n",
    "# STDP parameters\n",
    "tc_pre = 20*ms\n",
    "tc_post_1 = 20*ms\n",
    "tc_post_2 = 40*ms\n",
    "nu_pre =  0.0001\n",
    "nu_post = 0.01\n",
    "wmax = 100.0\n",
    "\n",
    "input_intensity = 1.\n",
    "start_input_intensity = input_intensity\n",
    "\n",
    "update_interval = 2"
   ]
  },
  {
   "cell_type": "code",
   "execution_count": 5,
   "metadata": {},
   "outputs": [
    {
     "data": {
      "image/png": "[encoded data removed]",
      "text/plain": [
       "<Figure size 360x360 with 1 Axes>"
      ]
     },
     "metadata": {
      "needs_background": "light"
     },
     "output_type": "display_data"
    },
    {
     "data": {
      "image/png": "[encoded data removed]",
      "text/plain": [
       "<Figure size 360x360 with 1 Axes>"
      ]
     },
     "metadata": {
      "needs_background": "light"
     },
     "output_type": "display_data"
    }
   ],
   "source": [
    "img = Image.open(stimuli_file)\n",
    "img.load()\n",
    "img_arr = np.asarray(img, dtype=\"int32\")\n",
    "stimuli = np.absolute(img_arr)/255\n",
    "\n",
    "# fig = figure(fig_num, figsize = (10, 10))\n",
    "# im2 = imshow(stimuli, vmin = np.min(stimuli), vmax = np.max(stimuli) , cmap = cmap.get_cmap('gray_r'))\n",
    "# fig_num += 1\n",
    "\n",
    "stimuli_on = signal.convolve(img, receptiveFieldMatrix(lambda x,y:mexicanHat(x,y,3,4)), mode='same')\n",
    "fig = figure(fig_num, figsize = (5,5))\n",
    "imgplot1 = imshow(stimuli_on, cmap=cmap.get_cmap('gray_r'))\n",
    "fig_num += 1\n",
    "\n",
    "stimuli_off = signal.convolve(stimuli, receptiveFieldMatrix(lambda x,y:mexicanHat(x,y,4,3)), mode='same')\n",
    "fig = figure(fig_num, figsize = (5,5))\n",
    "imgplot2 = imshow(stimuli_off, cmap=cmap.get_cmap('gray_r'))\n",
    "fig_num += 1"
   ]
  },
  {
   "cell_type": "code",
   "execution_count": 6,
   "metadata": {},
   "outputs": [],
   "source": [
    "scr_e = 'v = v_reset_e; theta += theta_plus_e; timer = 0*ms'\n",
    "v_reset_i_str = 'v = v_reset_i'\n",
    "\n",
    "v_thresh_e_str = '(v > (theta - offset + v_thresh_e)) and (timer > refrac_e)'\n",
    "v_thresh_i_str = 'v > v_thresh_i'\n",
    "\n",
    "neuron_eqs_e = '''\n",
    "        dv/dt = ((v_rest_e - v) + g_e*(-v) + g_i*(-100.*mV - v) ) / (100*ms)  : volt (unless refractory)\n",
    "        dg_e/dt = -g_e/(1.0*ms)                                    : 1\n",
    "        dg_i/dt = -g_i/(2.0*ms)                                    : 1\n",
    "        dtheta/dt = -theta/(1e7*ms)                                : volt\n",
    "        dtimer/dt = 0.1                                            : second\n",
    "'''\n",
    "\n",
    "neuron_eqs_i = '''\n",
    "        dv/dt = ((v_rest_i - v) +  g_e*(-v) + g_i*(-85.*mV - v)) / (10*ms)  : volt (unless refractory)\n",
    "        dg_e/dt = -g_e/(1.0*ms)                                    : 1\n",
    "        dg_i/dt = -g_i/(2.0*ms)                                    : 1\n",
    "'''\n",
    "\n",
    "neuron_groups = {}\n",
    "neuron_groups['L4_on_v']     = NeuronGroup(n_L4, neuron_eqs_e, threshold=v_thresh_e_str, refractory=refrac_e, reset=scr_e, method='euler')\n",
    "neuron_groups['L4_on_i_v']   = NeuronGroup(n_L4, neuron_eqs_i, threshold=v_thresh_i_str, refractory=refrac_i, reset=v_reset_i_str, method='euler')\n",
    "neuron_groups['L4_off_v']    = NeuronGroup(n_L4, neuron_eqs_i, threshold=v_thresh_i_str, refractory=refrac_i, reset=v_reset_i_str, method='euler')\n",
    "neuron_groups['L4_off_i_v']  = NeuronGroup(n_L4, neuron_eqs_i, threshold=v_thresh_i_str, refractory=refrac_i, reset=v_reset_i_str, method='euler')\n",
    "neuron_groups['L4_v']        = NeuronGroup(n_L4, neuron_eqs_e, threshold=v_thresh_e_str, refractory=refrac_e, reset=scr_e, method='euler')\n",
    "\n",
    "\n",
    "neuron_groups['L4_on_v'].v     = v_rest_e - 40.*mV\n",
    "neuron_groups['L4_on_i_v'].v   = v_rest_i - 40.*mV\n",
    "neuron_groups['L4_off_v'].v    = v_rest_i - 40.*mV\n",
    "neuron_groups['L4_off_i_v'].v  = v_rest_i - 40.*mV\n",
    "neuron_groups['L4_v'].v        = v_rest_e - 40.*mV\n",
    "\n",
    "neuron_groups['L4_on_v'].theta   = np.ones((n_L4)) * 20.0*mV\n",
    "neuron_groups['L4_v'].theta      = np.ones((n_L4)) * 20.0*mV\n",
    "\n",
    "input_groups = {}\n",
    "input_groups['LGN_on']   = PoissonGroup(n_LGN, 0*Hz)\n",
    "input_groups['LGN_off']  = PoissonGroup(n_LGN, 0*Hz)"
   ]
  },
  {
   "cell_type": "code",
   "execution_count": 7,
   "metadata": {},
   "outputs": [
    {
     "name": "stdout",
     "output_type": "stream",
     "text": [
      "(7200, 3) ./initial_weights/LGN_L4_v_on.npy\n"
     ]
    },
    {
     "name": "stderr",
     "output_type": "stream",
     "text": [
      "WARNING    Cannot use Cython, a test compilation failed: Microsoft Visual C++ 14.0 is required. Get it with \"Microsoft Visual C++ Build Tools\": https://visualstudio.microsoft.com/downloads/ (DistutilsPlatformError) [brian2.codegen.runtime.cython_rt.cython_rt.failed_compile_test]\n",
      "INFO       Cannot use compiled code, falling back to the numpy code generation target. Note that this will likely be slower than using compiled code. Set the code generation to numpy manually to avoid this message:\n",
      "prefs.codegen.target = \"numpy\" [brian2.devices.device.codegen_fallback]\n"
     ]
    },
    {
     "name": "stdout",
     "output_type": "stream",
     "text": [
      "(7200, 3) ./initial_weights/LGN_L4_v_on.npy\n",
      "(7200, 3) ./initial_weights/LGN_L4_v_off.npy\n",
      "(7200, 3) ./initial_weights/LGN_L4_v_off.npy\n",
      "(400, 3) ./initial_weights/L4_L4.npy\n",
      "(400, 3) ./initial_weights/L4_L4.npy\n",
      "(400, 3) ./initial_weights/L4_L4.npy\n",
      "(400, 3) ./initial_weights/L4_L4.npy\n"
     ]
    }
   ],
   "source": [
    "# without STDP\n",
    "model = 'w : 1'\n",
    "pre = 'g_e_post += w'\n",
    "post = ''\n",
    "\n",
    "# with STDP\n",
    "stdp_model = '''\n",
    "    w                                   : 1\n",
    "    dpre/dt   =   -pre/(tc_pre)         : 1 (event-driven)\n",
    "    dpost1/dt  = -post1/(tc_post_1)     : 1 (event-driven)\n",
    "    dpost2/dt  = -post2/(tc_post_2)     : 1 (event-driven)\n",
    "'''\n",
    "stdp_pre = 'pre = 1.; w = clip(w + nu_pre * post1, 0, wmax); g_e_post += w;'\n",
    "stdp_post = 'post1 = 1.; post2 = 1.; w = clip(w + nu_post * pre * post2, 0, wmax)'\n",
    "\n",
    "\n",
    "connections = {}\n",
    "\n",
    "# LGN on >> L4 on, without STDP\n",
    "# 3*6 to one connection\n",
    "\n",
    "shape = (n_LGN,n_L4)\n",
    "weightMatrix = get_matrix_from_file(weight_path + 'LGN_L4_v_on.npy', shape)\n",
    "\n",
    "connections['LGN_on_L4_on_v']= Synapses(input_groups['LGN_on'], neuron_groups['L4_on_v'], model=model, on_pre=pre, on_post=post)\n",
    "connections['LGN_on_L4_on_v'].connect(True)\n",
    "connections['LGN_on_L4_on_v'].w = weightMatrix[connections['LGN_on_L4_on_v'].i, connections['LGN_on_L4_on_v'].j]\n",
    "connections['LGN_on_L4_on_v'].delay = 'minDelay + rand() * deltaDelay'\n",
    "\n",
    "\n",
    "# LGN off >> L4 on inhibitory, without STDP\n",
    "# 3*6 to one connection\n",
    "\n",
    "shape = (n_LGN,n_L4)\n",
    "weightMatrix = get_matrix_from_file(weight_path + 'LGN_L4_v_on.npy', shape)\n",
    "\n",
    "connections['LGN_off_L4_on_i_v']= Synapses(input_groups['LGN_off'], neuron_groups['L4_on_i_v'], model=model, on_pre=pre, on_post=post)\n",
    "connections['LGN_off_L4_on_i_v'].connect(True)\n",
    "connections['LGN_off_L4_on_i_v'].w = weightMatrix[connections['LGN_off_L4_on_i_v'].i, connections['LGN_off_L4_on_i_v'].j]\n",
    "connections['LGN_off_L4_on_i_v'].delay = 'minDelay + rand() * deltaDelay'\n",
    "\n",
    "\n",
    "# LGN off >> L4 off, without STDP\n",
    "# 3*6 to one connection\n",
    "\n",
    "shape = (n_LGN,n_L4)\n",
    "weightMatrix = get_matrix_from_file(weight_path + 'LGN_L4_v_off.npy', shape)\n",
    "\n",
    "connections['LGN_off_L4_off_v']= Synapses(input_groups['LGN_off'], neuron_groups['L4_off_v'], model=model, on_pre=pre, on_post=post)\n",
    "connections['LGN_off_L4_off_v'].connect(True)\n",
    "connections['LGN_off_L4_off_v'].w = weightMatrix[connections['LGN_off_L4_off_v'].i, connections['LGN_off_L4_off_v'].j]\n",
    "connections['LGN_off_L4_off_v'].delay = 'minDelay + rand() * deltaDelay'\n",
    "\n",
    "\n",
    "# LGN on >> L4 off inhibitory, without STDP\n",
    "# 3*6 to one connection\n",
    "\n",
    "shape = (n_LGN,n_L4)\n",
    "weightMatrix = get_matrix_from_file(weight_path + 'LGN_L4_v_off.npy', shape)\n",
    "\n",
    "connections['LGN_on_L4_off_i_v']= Synapses(input_groups['LGN_on'], neuron_groups['L4_off_i_v'], model=model, on_pre=pre, on_post=post)\n",
    "connections['LGN_on_L4_off_i_v'].connect(True)\n",
    "connections['LGN_on_L4_off_i_v'].w = weightMatrix[connections['LGN_on_L4_off_i_v'].i, connections['LGN_on_L4_off_i_v'].j]\n",
    "connections['LGN_on_L4_off_i_v'].delay = 'minDelay + rand() * deltaDelay'\n",
    "\n",
    "\n",
    "# L4 on inhibitory >> L4 on, without STDP\n",
    "# one to one connection\n",
    "\n",
    "shape = (n_L4,n_L4)\n",
    "weightMatrix = get_matrix_from_file(weight_path + 'L4_L4.npy', shape)\n",
    "\n",
    "connections['L4_on_i_L4_on_v']= Synapses(neuron_groups['L4_on_v'], neuron_groups['L4_on_i_v'], model=model, on_pre=pre, on_post=post)\n",
    "connections['L4_on_i_L4_on_v'].connect(True)\n",
    "connections['L4_on_i_L4_on_v'].w = weightMatrix[connections['L4_on_i_L4_on_v'].i, connections['L4_on_i_L4_on_v'].j]\n",
    "connections['L4_on_i_L4_on_v'].delay = 'minDelay + rand() * deltaDelay'\n",
    "\n",
    "\n",
    "# L4 off inhibitory >> L4 off, without STDP\n",
    "# one to one connection\n",
    "\n",
    "shape = (n_L4,n_L4)\n",
    "weightMatrix = get_matrix_from_file(weight_path + 'L4_L4.npy', shape)\n",
    "\n",
    "connections['L4_off_i_L4_off_v']= Synapses(neuron_groups['L4_off_v'], neuron_groups['L4_off_i_v'], model=model, on_pre=pre, on_post=post)\n",
    "connections['L4_off_i_L4_off_v'].connect(True)\n",
    "connections['L4_off_i_L4_off_v'].w = weightMatrix[connections['L4_off_i_L4_off_v'].i, connections['L4_off_i_L4_off_v'].j]\n",
    "connections['L4_off_i_L4_off_v'].delay = 'minDelay + rand() * deltaDelay'\n",
    "\n",
    "\n",
    "# L4 on >> L4, without STDP\n",
    "# one to one connection\n",
    "\n",
    "shape = (n_L4,n_L4)\n",
    "weightMatrix = get_matrix_from_file(weight_path + 'L4_L4.npy', shape)\n",
    "\n",
    "connections['L4_on_L4_v']= Synapses(neuron_groups['L4_on_v'], neuron_groups['L4_v'], model=model, on_pre=pre, on_post=post)\n",
    "connections['L4_on_L4_v'].connect(True)\n",
    "connections['L4_on_L4_v'].w = weightMatrix[connections['L4_on_L4_v'].i, connections['L4_on_L4_v'].j]\n",
    "connections['L4_on_L4_v'].delay = 'minDelay + rand() * deltaDelay'\n",
    "\n",
    "\n",
    "# L4 off >> L4, without STDP\n",
    "# one to one connection\n",
    "\n",
    "shape = (n_L4,n_L4)\n",
    "weightMatrix = get_matrix_from_file(weight_path + 'L4_L4.npy', shape)\n",
    "\n",
    "connections['L4_off_L4_v']= Synapses(neuron_groups['L4_off_v'], neuron_groups['L4_v'], model=model, on_pre=pre, on_post=post)\n",
    "connections['L4_off_L4_v'].connect(True)\n",
    "connections['L4_off_L4_v'].w = weightMatrix[connections['L4_off_L4_v'].i, connections['L4_off_L4_v'].j]\n",
    "connections['L4_off_L4_v'].delay = 'minDelay + rand() * deltaDelay'"
   ]
  },
  {
   "cell_type": "code",
   "execution_count": 8,
   "metadata": {},
   "outputs": [
    {
     "data": {
      "text/plain": [
       "<matplotlib.axes._subplots.AxesSubplot at 0x174585004e0>"
      ]
     },
     "execution_count": 8,
     "metadata": {},
     "output_type": "execute_result"
    },
    {
     "data": {
      "image/png": "[encoded data removed]",
      "text/plain": [
       "<Figure size 720x720 with 1 Axes>"
      ]
     },
     "metadata": {
      "needs_background": "light"
     },
     "output_type": "display_data"
    }
   ],
   "source": [
    "plt.figure(5, figsize=(10,10))\n",
    "# brian_plot(connections['LGN_off_L4_on_i_v'].w)\n",
    "# brian_plot(connections['L4_off_i_L4_off_v'].w)\n",
    "brian_plot(connections['L4_off_L4_v'].w)\n",
    "subplot(1,1,1)"
   ]
  },
  {
   "cell_type": "code",
   "execution_count": 9,
   "metadata": {},
   "outputs": [],
   "source": [
    "# plot connections here"
   ]
  },
  {
   "cell_type": "code",
   "execution_count": 10,
   "metadata": {},
   "outputs": [],
   "source": [
    "spike_counter = SpikeMonitor(neuron_groups['L4_v'])\n",
    "\n",
    "# used for ploting after training\n",
    "rate_monitors = {}\n",
    "spike_monitors = {}\n",
    "\n",
    "rate_monitors['LGN_on']      = PopulationRateMonitor(input_groups['LGN_on'])\n",
    "rate_monitors['LGN_off']     = PopulationRateMonitor(input_groups['LGN_off'])\n",
    "rate_monitors['L4_on_v']     = PopulationRateMonitor(neuron_groups['L4_on_v'])\n",
    "rate_monitors['L4_on_i_v']   = PopulationRateMonitor(neuron_groups['L4_on_i_v'])\n",
    "rate_monitors['L4_off_v']    = PopulationRateMonitor(neuron_groups['L4_off_v'])\n",
    "rate_monitors['L4_off_i_v']  = PopulationRateMonitor(neuron_groups['L4_off_i_v'])\n",
    "rate_monitors['L4_v']        = PopulationRateMonitor(neuron_groups['L4_v'])\n",
    "\n",
    "spike_monitors['LGN_on']      = SpikeMonitor(input_groups['LGN_on'])\n",
    "spike_monitors['LGN_off']     = SpikeMonitor(input_groups['LGN_off'])\n",
    "spike_monitors['L4_on_v']     = SpikeMonitor(neuron_groups['L4_on_v'])\n",
    "spike_monitors['L4_on_i_v']   = SpikeMonitor(neuron_groups['L4_on_i_v'])\n",
    "spike_monitors['L4_off_v']    = SpikeMonitor(neuron_groups['L4_off_v'])\n",
    "spike_monitors['L4_off_i_v']  = SpikeMonitor(neuron_groups['L4_off_i_v'])\n",
    "spike_monitors['L4_v']        = SpikeMonitor(neuron_groups['L4_v'])"
   ]
  },
  {
   "cell_type": "code",
   "execution_count": 11,
   "metadata": {},
   "outputs": [
    {
     "name": "stdout",
     "output_type": "stream",
     "text": [
      "L4_on_v NeuronGroup(clock=Clock(dt=100. * usecond, name='defaultclock'), when=start, order=0, name='neurongroup')\n",
      "L4_on_i_v NeuronGroup(clock=Clock(dt=100. * usecond, name='defaultclock'), when=start, order=0, name='neurongroup_1')\n",
      "L4_off_v NeuronGroup(clock=Clock(dt=100. * usecond, name='defaultclock'), when=start, order=0, name='neurongroup_2')\n",
      "L4_off_i_v NeuronGroup(clock=Clock(dt=100. * usecond, name='defaultclock'), when=start, order=0, name='neurongroup_3')\n",
      "L4_v NeuronGroup(clock=Clock(dt=100. * usecond, name='defaultclock'), when=start, order=0, name='neurongroup_4')\n",
      "LGN_on PoissonGroup(14400, rates=0. * hertz)\n",
      "LGN_off PoissonGroup(14400, rates=0. * hertz)\n",
      "LGN_on_L4_on_v Synapses(clock=Clock(dt=100. * usecond, name='defaultclock'), when=start, order=0, name='synapses')\n",
      "LGN_off_L4_on_i_v Synapses(clock=Clock(dt=100. * usecond, name='defaultclock'), when=start, order=0, name='synapses_1')\n",
      "LGN_off_L4_off_v Synapses(clock=Clock(dt=100. * usecond, name='defaultclock'), when=start, order=0, name='synapses_2')\n",
      "LGN_on_L4_off_i_v Synapses(clock=Clock(dt=100. * usecond, name='defaultclock'), when=start, order=0, name='synapses_3')\n",
      "L4_on_i_L4_on_v Synapses(clock=Clock(dt=100. * usecond, name='defaultclock'), when=start, order=0, name='synapses_4')\n",
      "L4_off_i_L4_off_v Synapses(clock=Clock(dt=100. * usecond, name='defaultclock'), when=start, order=0, name='synapses_5')\n",
      "L4_on_L4_v Synapses(clock=Clock(dt=100. * usecond, name='defaultclock'), when=start, order=0, name='synapses_6')\n",
      "L4_off_L4_v Synapses(clock=Clock(dt=100. * usecond, name='defaultclock'), when=start, order=0, name='synapses_7')\n",
      "LGN_on <PopulationRateMonitor, recording poissongroup>\n",
      "LGN_off <PopulationRateMonitor, recording poissongroup_1>\n",
      "L4_on_v <PopulationRateMonitor, recording neurongroup>\n",
      "L4_on_i_v <PopulationRateMonitor, recording neurongroup_1>\n",
      "L4_off_v <PopulationRateMonitor, recording neurongroup_2>\n",
      "L4_off_i_v <PopulationRateMonitor, recording neurongroup_3>\n",
      "L4_v <PopulationRateMonitor, recording neurongroup_4>\n",
      "LGN_on <SpikeMonitor, recording from spikemonitor_1>\n",
      "LGN_off <SpikeMonitor, recording from spikemonitor_2>\n",
      "L4_on_v <SpikeMonitor, recording from spikemonitor_3>\n",
      "L4_on_i_v <SpikeMonitor, recording from spikemonitor_4>\n",
      "L4_off_v <SpikeMonitor, recording from spikemonitor_5>\n",
      "L4_off_i_v <SpikeMonitor, recording from spikemonitor_6>\n",
      "L4_v <SpikeMonitor, recording from spikemonitor_7>\n",
      "spike counter <SpikeMonitor, recording from spikemonitor>\n"
     ]
    }
   ],
   "source": [
    "net = Network()\n",
    "for obj_list in [neuron_groups, input_groups, connections, rate_monitors, spike_monitors]:\n",
    "    for key in obj_list:\n",
    "        print(key, obj_list[key])\n",
    "        net.add(obj_list[key])\n",
    "print('spike counter', spike_counter)\n",
    "net.add(spike_counter)"
   ]
  },
  {
   "cell_type": "code",
   "execution_count": 12,
   "metadata": {},
   "outputs": [],
   "source": [
    "previous_spike_count = np.zeros(n_L4)\n",
    "\n",
    "input_groups['LGN_on'].rates = 0 * Hz\n",
    "input_groups['LGN_off'].rates = 0 * Hz\n",
    "\n",
    "net.run(0*second)\n",
    "\n",
    "j = 0"
   ]
  },
  {
   "cell_type": "code",
   "execution_count": 13,
   "metadata": {},
   "outputs": [
    {
     "name": "stdout",
     "output_type": "stream",
     "text": [
      "run example number: 0 of 10\n",
      "Starting simulation at t=0. s for a duration of 0.35 s\n",
      "0.2906 (83%) simulated in 10s, estimated 2s remaining.\n",
      "0.35 (100%) simulated in 11s\n",
      "S - spike count 755.0\n",
      "run example number: 1 of 10\n",
      "Starting simulation at t=0.5 s for a duration of 0.35 s\n",
      "0.12546470588235298 (35%) simulated in 10s, estimated 18s remaining.\n",
      "0.35 (100%) simulated in 11s\n",
      "S - spike count 1254\n",
      "run example number: 2 of 10\n",
      "Starting simulation at t=1. s for a duration of 0.35 s\n",
      "0.07676666666666666 (21%) simulated in 10s, estimated 36s remaining.\n",
      "0.35 (100%) simulated in 11s\n",
      "S - spike count 1223\n",
      "run example number: 3 of 10\n",
      "Starting simulation at t=1.5 s for a duration of 0.35 s\n",
      "0.04614324324324324 (13%) simulated in 10s, estimated 1m 6s remaining.\n",
      "0.35 (100%) simulated in 14s\n",
      "S - spike count 1210\n",
      "run example number: 4 of 10\n",
      "Starting simulation at t=2. s for a duration of 0.35 s\n",
      "0.03934893617021279 (11%) simulated in 10s, estimated 1m 19s remaining.\n",
      "0.35 (100%) simulated in 12s\n",
      "S - spike count 1147\n",
      "run example number: 5 of 10\n",
      "Starting simulation at t=2.5 s for a duration of 0.35 s\n",
      "0.03275263157894739 (9%) simulated in 10s, estimated 1m 37s remaining.\n",
      "0.35 (100%) simulated in 14s\n",
      "S - spike count 804\n",
      "run example number: 6 of 10\n",
      "Starting simulation at t=3. s for a duration of 0.35 s\n",
      "0.029514925373134344 (8%) simulated in 10s, estimated 1m 49s remaining.\n",
      "0.35 (100%) simulated in 12s\n",
      "S - spike count 624\n",
      "run example number: 7 of 10\n",
      "Starting simulation at t=3.5 s for a duration of 0.35 s\n",
      "0.021054545454545475 (6%) simulated in 10s, estimated 2m 36s remaining.\n",
      "0.35 (100%) simulated in 15s\n",
      "S - spike count 605\n",
      "run example number: 8 of 10\n",
      "Starting simulation at t=4. s for a duration of 0.35 s\n",
      "0.0174275862068966 (4%) simulated in 10s, estimated 3m 11s remaining.\n",
      "0.35 (100%) simulated in 15s\n",
      "S - spike count 603\n",
      "run example number: 9 of 10\n",
      "Starting simulation at t=4.5 s for a duration of 0.35 s\n",
      "0.015667010309278372 (4%) simulated in 10s, estimated 3m 33s remaining.\n",
      "0.35 (100%) simulated in 15s\n",
      "S - spike count 591\n"
     ]
    }
   ],
   "source": [
    "while j < (num_epochs):\n",
    "#     normalize_weights()\n",
    "    \n",
    "    spike_rates_on = stimuli_on.reshape((n_LGN)) / 8. *  input_intensity\n",
    "    spike_rates_off = stimuli_off.reshape((n_LGN)) / 8. *  input_intensity\n",
    "    \n",
    "    input_groups['LGN_on'].rates = spike_rates_on * Hz\n",
    "    input_groups['LGN_off'].rates = spike_rates_off * Hz\n",
    "    \n",
    "    print('run example number:', j, 'of', num_epochs)\n",
    "    \n",
    "    net.run(single_example_time, report='text')   # 0.35 s\n",
    "\n",
    "#     if j % update_interval == 0:\n",
    "#         plot_one_to_one('LGN_L6_o', n_LGN, fig_num)\n",
    "#         fig_num += 1\n",
    "\n",
    "    current_spike_count = np.asarray(spike_counter.count[:]) - previous_spike_count\n",
    "    previous_spike_count = np.copy(spike_counter.count[:])\n",
    "    \n",
    "    if np.sum(current_spike_count) < 5:\n",
    "        print(\"F - spike count\", np.sum(current_spike_count))\n",
    "        input_intensity += 1\n",
    "        \n",
    "        input_groups['LGN_on'].rates = 0 * Hz\n",
    "        input_groups['LGN_off'].rates = 0 * Hz\n",
    "        net.run(resting_time) \n",
    "    \n",
    "    else:     \n",
    "        print(\"S - spike count\", np.sum(current_spike_count))\n",
    "        \n",
    "        if j % 100 == 0 and j > 0:\n",
    "            print('runs done:', j, 'of', num_epochs)\n",
    "\n",
    "        input_groups['LGN_on'].rates = 0 * Hz\n",
    "        input_groups['LGN_off'].rates = 0 * Hz\n",
    "        \n",
    "        net.run(resting_time)\n",
    "        input_intensity = start_input_intensity\n",
    "        j += 1"
   ]
  },
  {
   "cell_type": "code",
   "execution_count": 22,
   "metadata": {},
   "outputs": [
    {
     "data": {
      "image/png": "[encoded data removed]",
      "text/plain": [
       "<Figure size 720x720 with 2 Axes>"
      ]
     },
     "metadata": {
      "needs_background": "light"
     },
     "output_type": "display_data"
    }
   ],
   "source": [
    "plot_spike_counts('L4_v', (length//(w_s*2), length//l_s), fig_num)"
   ]
  },
  {
   "cell_type": "code",
   "execution_count": 20,
   "metadata": {},
   "outputs": [
    {
     "data": {
      "text/plain": [
       "80"
      ]
     },
     "execution_count": 20,
     "metadata": {},
     "output_type": "execute_result"
    }
   ],
   "source": [
    "length//w_s*2"
   ]
  },
  {
   "cell_type": "code",
   "execution_count": 21,
   "metadata": {},
   "outputs": [
    {
     "data": {
      "text/plain": [
       "3"
      ]
     },
     "execution_count": 21,
     "metadata": {},
     "output_type": "execute_result"
    }
   ],
   "source": [
    "w_s"
   ]
  },
  {
   "cell_type": "code",
   "execution_count": null,
   "metadata": {},
   "outputs": [],
   "source": []
  }
 ],
 "metadata": {
  "kernelspec": {
   "display_name": "SNN simulator",
   "language": "python",
   "name": "sim"
  },
  "language_info": {
   "codemirror_mode": {
    "name": "ipython",
    "version": 3
   },
   "file_extension": ".py",
   "mimetype": "text/x-python",
   "name": "python",
   "nbconvert_exporter": "python",
   "pygments_lexer": "ipython3",
   "version": "3.6.8"
  }
 },
 "nbformat": 4,
 "nbformat_minor": 2
}
