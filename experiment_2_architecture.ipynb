{
 "cells": [
  {
   "cell_type": "code",
   "execution_count": null,
   "metadata": {},
   "outputs": [],
   "source": [
    "import numpy as np\n",
    "import matplotlib.cm as cmap\n",
    "import time\n",
    "import os.path\n",
    "import scipy\n",
    "import pickle as pickle\n",
    "from struct import unpack\n",
    "from brian2 import *\n",
    "import brian2\n",
    "from brian2tools import *"
   ]
  },
  {
   "cell_type": "code",
   "execution_count": null,
   "metadata": {},
   "outputs": [],
   "source": [
    "# nInput = 784\n",
    "# nE = 16\n",
    "# nI = nE \n",
    "# dataPath = './experiment/random/'                   # random weight data?\n",
    "# weight = {}\n",
    "# weight['ee_input'] = 0.3                      # used\n",
    "# weight['ei_input'] = 0.2                    \n",
    "# weight['ee'] = 0.1                      \n",
    "# weight['ei'] = 10.4                           # used\n",
    "# weight['ie'] = 17.0                           # used\n",
    "# weight['ii'] = 0.4\n",
    "# pConn = {}\n",
    "# pConn['ee_input'] = 1.0                       # used\n",
    "# pConn['ei_input'] = 0.1 \n",
    "# pConn['ee'] = 1.0\n",
    "# pConn['ei'] = 0.0025                          # used\n",
    "# pConn['ie'] = 0.9                             # used\n",
    "# pConn['ii'] = 0.1"
   ]
  },
  {
   "cell_type": "code",
   "execution_count": null,
   "metadata": {},
   "outputs": [],
   "source": [
    "# initial random weights\n",
    "dataPath = './experiment_2/random/'\n",
    "\n",
    "# excitatory between L3 neurons\n",
    "# excitatoin between L3 and L2\n",
    "# inhibition between L2 and L3\n",
    "\n",
    "n_input = 784\n",
    "n_L2 = 784\n",
    "n_L3 = n_L2  \n",
    " \n",
    "weight = {}\n",
    "weight['input_L3'] = 78.                      # excitation one to one connection\n",
    "weight['L3_L3'] = 0.2                         # excitation one to all horizontal connection\n",
    "weight['L3_L2'] = 10.4                        # excitation one to one connection\n",
    "weight['L2_L3'] = 17.0                        # inhibition one to all backward connection (except predecessor)\n"
   ]
  },
  {
   "cell_type": "code",
   "execution_count": null,
   "metadata": {},
   "outputs": [],
   "source": [
    "# input to L3 forward connections\n",
    "# one to one\n",
    "\n",
    "weightList = np.random.random(n_L3) * 5\n",
    "weightList += weight['input_L3']\n",
    "weights = [(i, i, weightList[i]) for i in range(n_L3)]\n",
    "np.save(dataPath + 'input_L3', weights)"
   ]
  },
  {
   "cell_type": "code",
   "execution_count": null,
   "metadata": {},
   "outputs": [],
   "source": [
    "# L3 to L3 horizontal connections\n",
    "# one to many\n",
    "\n",
    "weightMatrix = np.random.random((n_L3, n_L3))\n",
    "weightMatrix *= weight['L3_L3']\n",
    "for i in range(n_L3):\n",
    "    weightMatrix[i,i] = 0\n",
    "weights = [(i, j, weightMatrix[i,j]) for i in range(n_L3) for j in range(n_L3)]\n",
    "np.save(dataPath + 'L3_L3', weights)"
   ]
  },
  {
   "cell_type": "code",
   "execution_count": null,
   "metadata": {},
   "outputs": [],
   "source": [
    "# L3 to L2 forward connections\n",
    "# one to one\n",
    "\n",
    "weightList = np.random.random(n_L3) - 0.5\n",
    "weightList += weight['L3_L2']\n",
    "weights = [(i, i, weightList[i]) for i in range(n_L3)]\n",
    "np.save(dataPath + 'L3_L2', weights)"
   ]
  },
  {
   "cell_type": "code",
   "execution_count": null,
   "metadata": {},
   "outputs": [],
   "source": [
    "# L2 to L3 backward connections\n",
    "# one to many\n",
    "\n",
    "weightMatrix = np.random.random((n_L2, n_L3)) - 0.5\n",
    "weightMatrix += weight['L2_L3']\n",
    "for i in range(n_L2):\n",
    "    weightMatrix[i,i] = 0\n",
    "weights = [(i, j, weightMatrix[i,j]) for i in range(n_L2) for j in range(n_L3)]\n",
    "np.save(dataPath + 'L2_L3', weights)"
   ]
  },
  {
   "cell_type": "code",
   "execution_count": null,
   "metadata": {},
   "outputs": [],
   "source": []
  },
  {
   "cell_type": "code",
   "execution_count": null,
   "metadata": {},
   "outputs": [],
   "source": []
  },
  {
   "cell_type": "code",
   "execution_count": null,
   "metadata": {},
   "outputs": [],
   "source": [
    "weights"
   ]
  },
  {
   "cell_type": "code",
   "execution_count": null,
   "metadata": {},
   "outputs": [],
   "source": [
    "len(weights)"
   ]
  },
  {
   "cell_type": "code",
   "execution_count": null,
   "metadata": {},
   "outputs": [],
   "source": [
    "2/100.0"
   ]
  },
  {
   "cell_type": "code",
   "execution_count": null,
   "metadata": {},
   "outputs": [],
   "source": []
  }
 ],
 "metadata": {
  "kernelspec": {
   "display_name": "SNN simulator",
   "language": "python",
   "name": "sim"
  },
  "language_info": {
   "codemirror_mode": {
    "name": "ipython",
    "version": 3
   },
   "file_extension": ".py",
   "mimetype": "text/x-python",
   "name": "python",
   "nbconvert_exporter": "python",
   "pygments_lexer": "ipython3",
   "version": "3.6.8"
  }
 },
 "nbformat": 4,
 "nbformat_minor": 2
}
