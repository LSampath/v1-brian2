{
 "cells": [
  {
   "cell_type": "code",
   "execution_count": 1,
   "metadata": {},
   "outputs": [],
   "source": [
    "import numpy as np\n",
    "import matplotlib.cm as cmap\n",
    "import time\n",
    "import os.path\n",
    "import scipy\n",
    "import pickle as pickle\n",
    "from struct import unpack\n",
    "from brian2 import *\n",
    "import brian2\n",
    "from brian2tools import *\n",
    "from PIL import Image"
   ]
  },
  {
   "cell_type": "code",
   "execution_count": 7,
   "metadata": {},
   "outputs": [],
   "source": [
    "# initial random weights\n",
    "dataPath = './initial_weights/'\n",
    "\n",
    "length = 120\n",
    "field_size = 3                     # 2/3/4/5/6\n",
    "\n",
    "w_s = field_size*1               # simple cell width\n",
    "l_s = field_size*2              # simple_cell_length\n",
    "\n",
    "n_LGN = length*length\n",
    "n_L4 = (length//(w_s*2))*(length//l_s)\n",
    "\n",
    "weight = {}\n",
    "weight['LGN_L4_i'] = 26.\n",
    "weight['LGN_L4'] = 26.\n",
    "weight['L4_L4'] = 26."
   ]
  },
  {
   "cell_type": "code",
   "execution_count": 8,
   "metadata": {},
   "outputs": [],
   "source": [
    "# LGN ON >> L4 horizontal ON\n",
    "# LGN OFF >> L4 horizontal ON inhibitory\n",
    "# L4 horizontal ON inhibitory >> L4 horizontal ON\n",
    "\n",
    "# LGN ON >> L4 vertical ON\n",
    "# LGN OFF >> L4 vertical ON inhibitory\n",
    "# L4 vertical ON inhibitory >> L4 vertical ON\n",
    "\n",
    "# L4 vertical ON >> L4 vertical\n",
    "# L4 vertical OFF >> L4 vertical\n",
    "\n",
    "# LGN OFF >> L4 horizontal OFF\n",
    "# LGN ON >> L4 horizontal OFF inhibitory\n",
    "# L4 horizontal OFF inhibitory >> L4 horizontal OFF\n",
    "\n",
    "# LGN OFF >> L4 vertical OFF\n",
    "# LGN ON >> L4 vertical OFF inhibitory\n",
    "# L4 vertical OFF inhibitory >> L4 vertical OFF\n",
    "\n",
    "# L4 horizontal ON >> L4 horizontal\n",
    "# L4 horizontal OFF >> L4 horizontal"
   ]
  },
  {
   "cell_type": "code",
   "execution_count": 9,
   "metadata": {},
   "outputs": [],
   "source": [
    "# LGN ON >> L4 horizontal\n",
    "# vertical, simple_cell_length*simple_cell_width to 1\n",
    "\n",
    "weightList = np.random.random((n_LGN, n_L4))\n",
    "weightList += weight['LGN_L4']\n",
    "\n",
    "weights_on = []\n",
    "weights_off = []\n",
    "\n",
    "for i in range(0, length//(w_s*2)):                   # y axis\n",
    "    for j in range(0, length//l_s):                   # x axis\n",
    "        for p in range(0, w_s):\n",
    "            for q in range(0, l_s):\n",
    "                x_on = (i*2*w_s+p)*length + (j*l_s+q)\n",
    "                x_off = ((i*2+1)*w_s+p)*length + (j*l_s+q)\n",
    "                y = i*(length//l_s) + j\n",
    "                \n",
    "                weights_on.append((x_on, y, weightList[x_on,y]))\n",
    "                weights_off.append((x_off, y, weightList[x_off,y]))\n",
    "        \n",
    "np.save(dataPath + 'LGN_L4_h_on', weights_on)\n",
    "np.save(dataPath + 'LGN_L4_h_off', weights_off)"
   ]
  },
  {
   "cell_type": "code",
   "execution_count": 10,
   "metadata": {},
   "outputs": [],
   "source": [
    "# LGN ON >> L4 vertical ON\n",
    "# horizontal, simple_cell_length*simple_cell_width to 1\n",
    "\n",
    "weightList = np.random.random((n_LGN, n_L4))\n",
    "weightList += weight['LGN_L4']\n",
    "\n",
    "weights_on = []\n",
    "weights_off = []\n",
    "\n",
    "for i in range(0, length//l_s):                   # y axis\n",
    "    for j in range(0, length//(w_s*2)):          # x axis\n",
    "        for p in range(0, l_s):\n",
    "            for q in range(0, w_s):\n",
    "                x_on = (i*l_s+p)*length + (j*2*w_s+q)\n",
    "                x_off = (i*l_s+p)*length + ((j*2+1)*w_s+q)\n",
    "                y = i*(length//(w_s*2)) + j\n",
    "                \n",
    "                weights_on.append((x_on, y, weightList[x_on,y]))\n",
    "                weights_off.append((x_off, y, weightList[x_off,y]))\n",
    "        \n",
    "np.save(dataPath + 'LGN_L4_v_on', weights_on)\n",
    "np.save(dataPath + 'LGN_L4_v_off', weights_off)"
   ]
  },
  {
   "cell_type": "code",
   "execution_count": 11,
   "metadata": {},
   "outputs": [],
   "source": [
    "# L4 vertical/horizontal >> L4\n",
    "# L4 inhibitory vertical/horizontal >> L4 vertical/horizontal\n",
    "# one to one\n",
    "\n",
    "weightList = np.random.random(n_L4)\n",
    "weightList += weight['L4_L4']\n",
    "weights = [(i, i, weightList[i]) for i in range(n_L4)]\n",
    "np.save(dataPath + 'L4_L4', weights)\n"
   ]
  },
  {
   "cell_type": "code",
   "execution_count": null,
   "metadata": {},
   "outputs": [],
   "source": []
  },
  {
   "cell_type": "code",
   "execution_count": null,
   "metadata": {},
   "outputs": [],
   "source": []
  },
  {
   "cell_type": "code",
   "execution_count": null,
   "metadata": {},
   "outputs": [],
   "source": []
  },
  {
   "cell_type": "code",
   "execution_count": null,
   "metadata": {},
   "outputs": [],
   "source": []
  },
  {
   "cell_type": "code",
   "execution_count": null,
   "metadata": {},
   "outputs": [],
   "source": []
  },
  {
   "cell_type": "code",
   "execution_count": null,
   "metadata": {},
   "outputs": [],
   "source": []
  }
 ],
 "metadata": {
  "kernelspec": {
   "display_name": "SNN simulator",
   "language": "python",
   "name": "sim"
  },
  "language_info": {
   "codemirror_mode": {
    "name": "ipython",
    "version": 3
   },
   "file_extension": ".py",
   "mimetype": "text/x-python",
   "name": "python",
   "nbconvert_exporter": "python",
   "pygments_lexer": "ipython3",
   "version": "3.6.8"
  }
 },
 "nbformat": 4,
 "nbformat_minor": 2
}
