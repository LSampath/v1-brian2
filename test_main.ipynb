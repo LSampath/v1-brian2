{
 "cells": [
  {
   "cell_type": "code",
   "execution_count": 30,
   "metadata": {},
   "outputs": [],
   "source": [
    "import numpy as np\n",
    "import matplotlib.cm as cmap\n",
    "import time\n",
    "import os.path\n",
    "import scipy\n",
    "import pickle as pickle\n",
    "from struct import unpack\n",
    "from brian2 import *\n",
    "import brian2 as b2\n",
    "from brian2tools import *"
   ]
  },
  {
   "cell_type": "code",
   "execution_count": 31,
   "metadata": {},
   "outputs": [],
   "source": [
    "MNIST_data_path = 'MINST/'"
   ]
  },
  {
   "cell_type": "markdown",
   "metadata": {},
   "source": [
    "Functions"
   ]
  },
  {
   "cell_type": "code",
   "execution_count": 32,
   "metadata": {},
   "outputs": [],
   "source": [
    "def get_labeled_data(picklename, bTrain = True):\n",
    "    \"\"\"Read input-vector (image) and target class (label, 0-9) and return\n",
    "       it as list of tuples.\n",
    "    \"\"\"\n",
    "    if os.path.isfile('%s.pickle' % picklename):\n",
    "        data = pickle.load(open('%s.pickle' % picklename, 'rb'))\n",
    "    else:\n",
    "        # Open the images with gzip in read binary mode\n",
    "        if bTrain:\n",
    "            images = open(MNIST_data_path + 'train-images.idx3-ubyte','rb')\n",
    "            labels = open(MNIST_data_path + 'train-labels.idx1-ubyte','rb')\n",
    "        else:\n",
    "            images = open(MNIST_data_path + 't10k-images.idx3-ubyte','rb')\n",
    "            labels = open(MNIST_data_path + 't10k-labels.idx1-ubyte','rb')\n",
    "        # Get metadata for images\n",
    "        images.read(4)  # skip the magic_number\n",
    "        number_of_images = unpack('>I', images.read(4))[0]\n",
    "        rows = unpack('>I', images.read(4))[0]\n",
    "        cols = unpack('>I', images.read(4))[0]\n",
    "        # Get metadata for labels\n",
    "        labels.read(4)  # skip the magic_number\n",
    "        N = unpack('>I', labels.read(4))[0]\n",
    "\n",
    "        if number_of_images != N:\n",
    "            raise Exception('number of labels did not match the number of images')\n",
    "        # Get the data\n",
    "        x = np.zeros((N, rows, cols), dtype=np.uint8)  # Initialize numpy array\n",
    "        y = np.zeros((N, 1), dtype=np.uint8)  # Initialize numpy array\n",
    "        for i in range(N):\n",
    "            if i % 1000 == 0:\n",
    "                print(\"i: %i\" % i)\n",
    "            x[i] = [[unpack('>B', images.read(1))[0] for unused_col in range(cols)]  for unused_row in range(rows) ]\n",
    "            y[i] = unpack('>B', labels.read(1))[0]\n",
    "\n",
    "        data = {'x': x, 'y': y, 'rows': rows, 'cols': cols}\n",
    "        pickle.dump(data, open(\"%s.pickle\" % picklename, \"wb\"), encoding='bytes')\n",
    "    return data"
   ]
  },
  {
   "cell_type": "code",
   "execution_count": 33,
   "metadata": {},
   "outputs": [],
   "source": [
    "def get_recognized_number_ranking(assignments, spike_rates):\n",
    "    summed_rates = [0] * 10\n",
    "    num_assignments = [0] * 10\n",
    "    for i in range(10):\n",
    "        num_assignments[i] = len(np.where(assignments == i)[0])\n",
    "        if num_assignments[i] > 0:\n",
    "            summed_rates[i] = np.sum(spike_rates[assignments == i]) / num_assignments[i]\n",
    "    return np.argsort(summed_rates)[::-1]"
   ]
  },
  {
   "cell_type": "code",
   "execution_count": 34,
   "metadata": {},
   "outputs": [],
   "source": [
    "def plot_2d_input_weights():\n",
    "    name = 'XeAe'\n",
    "    weights = get_2d_input_weights()\n",
    "    fig = b2.figure(fig_num, figsize = (18, 18))\n",
    "    im2 = b2.imshow(weights, interpolation = \"nearest\", vmin = 0, vmax = wmax_ee, cmap = cmap.get_cmap('hot_r'))\n",
    "    b2.colorbar(im2)\n",
    "    b2.title('weights of connection' + name)\n",
    "    fig.canvas.draw()\n",
    "    return im2, fig"
   ]
  },
  {
   "cell_type": "code",
   "execution_count": 35,
   "metadata": {},
   "outputs": [],
   "source": [
    "def get_matrix_from_file(fileName):\n",
    "    offset = 4\n",
    "    if fileName[-4-offset] == 'X':\n",
    "        n_src = n_input\n",
    "    else:\n",
    "        if fileName[-3-offset]=='e':\n",
    "            n_src = n_e\n",
    "        else:\n",
    "            n_src = n_i\n",
    "    if fileName[-1-offset]=='e':\n",
    "        n_tgt = n_e\n",
    "    else:\n",
    "        n_tgt = n_i\n",
    "    readout = np.load(fileName)\n",
    "    print(readout.shape, fileName)\n",
    "    value_arr = np.zeros((n_src, n_tgt))\n",
    "    if not readout.shape == (0,):\n",
    "        value_arr[np.int32(readout[:,0]), np.int32(readout[:,1])] = readout[:,2]\n",
    "    return value_arr"
   ]
  },
  {
   "cell_type": "code",
   "execution_count": 36,
   "metadata": {},
   "outputs": [],
   "source": [
    "def normalize_weights():\n",
    "    for connName in connections:\n",
    "        if connName[1] == 'e' and connName[3] == 'e':\n",
    "            len_source = len(connections[connName].source)\n",
    "            len_target = len(connections[connName].target)\n",
    "            connection = np.zeros((len_source, len_target))\n",
    "            connection[connections[connName].i, connections[connName].j] = connections[connName].w\n",
    "            temp_conn = np.copy(connection)\n",
    "            colSums = np.sum(temp_conn, axis = 0)\n",
    "            colFactors = weight['ee_input']/colSums\n",
    "            for j in range(n_e):#\n",
    "                temp_conn[:,j] *= colFactors[j]\n",
    "            connections[connName].w = temp_conn[connections[connName].i, connections[connName].j]"
   ]
  },
  {
   "cell_type": "code",
   "execution_count": 37,
   "metadata": {},
   "outputs": [],
   "source": [
    "def get_2d_input_weights():\n",
    "    name = 'XeAe'\n",
    "    weight_matrix = np.zeros((n_input, n_e))\n",
    "    n_e_sqrt = int(np.sqrt(n_e))\n",
    "    n_in_sqrt = int(np.sqrt(n_input))\n",
    "    num_values_col = n_e_sqrt*n_in_sqrt\n",
    "    num_values_row = num_values_col\n",
    "    rearranged_weights = np.zeros((num_values_col, num_values_row))\n",
    "    connMatrix = np.zeros((n_input, n_e))\n",
    "    connMatrix[connections[name].i, connections[name].j] = connections[name].w\n",
    "    weight_matrix = np.copy(connMatrix)\n",
    "\n",
    "    for i in range(n_e_sqrt):\n",
    "        for j in range(n_e_sqrt):\n",
    "                rearranged_weights[i*n_in_sqrt : (i+1)*n_in_sqrt, j*n_in_sqrt : (j+1)*n_in_sqrt] = \\\n",
    "                    weight_matrix[:, i + j*n_e_sqrt].reshape((n_in_sqrt, n_in_sqrt))\n",
    "    return rearranged_weights"
   ]
  },
  {
   "cell_type": "code",
   "execution_count": 38,
   "metadata": {},
   "outputs": [],
   "source": [
    "def plot_performance(fig_num):\n",
    "    num_evaluations = int(num_examples/update_interval)\n",
    "    time_steps = range(0, num_evaluations)\n",
    "    performance = np.zeros(num_evaluations)\n",
    "    fig = b2.figure(fig_num, figsize = (5, 5))\n",
    "    fig_num += 1\n",
    "    ax = fig.add_subplot(111)\n",
    "    im2, = ax.plot(time_steps, performance) #my_cmap\n",
    "    b2.ylim(ymax = 100)\n",
    "    b2.title('Classification performance')\n",
    "    fig.canvas.draw()\n",
    "    return im2, performance, fig_num, fig"
   ]
  },
  {
   "cell_type": "code",
   "execution_count": 39,
   "metadata": {},
   "outputs": [],
   "source": [
    "def update_2d_input_weights(im, fig):\n",
    "    weights = get_2d_input_weights()\n",
    "    im.set_array(weights)\n",
    "    fig.canvas.draw()\n",
    "    return im"
   ]
  },
  {
   "cell_type": "code",
   "execution_count": null,
   "metadata": {},
   "outputs": [],
   "source": []
  },
  {
   "cell_type": "code",
   "execution_count": null,
   "metadata": {},
   "outputs": [],
   "source": []
  },
  {
   "cell_type": "markdown",
   "metadata": {},
   "source": [
    "Load MINST"
   ]
  },
  {
   "cell_type": "code",
   "execution_count": 40,
   "metadata": {},
   "outputs": [
    {
     "name": "stdout",
     "output_type": "stream",
     "text": [
      "time needed to load training set: 0.09394717216491699\n",
      "time needed to load test set: 0.014992475509643555\n"
     ]
    }
   ],
   "source": [
    "start = time.time()\n",
    "training = get_labeled_data(MNIST_data_path + 'training')\n",
    "end = time.time()\n",
    "print('time needed to load training set:', end - start)\n",
    "\n",
    "start = time.time()\n",
    "testing = get_labeled_data(MNIST_data_path + 'testing', bTrain = False)\n",
    "end = time.time()\n",
    "print('time needed to load test set:', end - start)"
   ]
  },
  {
   "cell_type": "code",
   "execution_count": 41,
   "metadata": {},
   "outputs": [],
   "source": [
    "test_mode = False\n",
    "\n",
    "np.random.seed(0)\n",
    "data_path = './'\n",
    "\n",
    "if test_mode:\n",
    "    weight_path = data_path + 'weights/'\n",
    "    num_examples = 10000 * 1\n",
    "    use_testing_set = True\n",
    "    do_plot_performance = False\n",
    "    record_spikes = True\n",
    "    ee_STDP_on = False\n",
    "    update_interval = num_examples\n",
    "else:\n",
    "    weight_path = data_path + 'random/'\n",
    "    num_examples = 60000 * 3\n",
    "    use_testing_set = False\n",
    "    do_plot_performance = True\n",
    "    if num_examples <= 60000:\n",
    "        record_spikes = True\n",
    "    else:\n",
    "        record_spikes = True\n",
    "    ee_STDP_on = True\n",
    "    \n",
    "ending = ''\n",
    "n_input = 784\n",
    "n_e = 400\n",
    "n_i = n_e\n",
    "\n",
    "single_example_time =   0.35 * b2.second #\n",
    "resting_time = 0.15 * b2.second\n",
    "# runtime = num_examples * (single_example_time + resting_time)\n",
    "\n",
    "if num_examples <= 10000:\n",
    "    update_interval = num_examples\n",
    "    weight_update_interval = 20\n",
    "else:\n",
    "    update_interval = 10000\n",
    "    weight_update_interval = 100\n",
    "if num_examples <= 60000:\n",
    "    save_connections_interval = 10000\n",
    "else:\n",
    "    save_connections_interval = 10000\n",
    "    update_interval = 10000\n",
    "\n",
    "v_rest_e = -65. * b2.mV\n",
    "v_rest_i = -60. * b2.mV\n",
    "v_reset_e = -65. * b2.mV\n",
    "v_reset_i = -45. * b2.mV\n",
    "v_thresh_e = -52. * b2.mV\n",
    "v_thresh_i = -40. * b2.mV\n",
    "refrac_e = 5. * b2.ms\n",
    "refrac_i = 2. * b2.ms\n",
    "\n",
    "weight = {}\n",
    "delay = {}\n",
    "\n",
    "input_population_names = ['X']\n",
    "population_names = ['A']\n",
    "input_connection_names = ['XA']\n",
    "save_conns = ['XeAe']\n",
    "input_conn_names = ['ee_input']\n",
    "recurrent_conn_names = ['ei', 'ie']\n",
    "\n",
    "weight['ee_input'] = 78.\n",
    "delay['ee_input'] = (0*b2.ms, 10*b2.ms) #min and max delay\n",
    "delay['ei_input'] = (0*b2.ms, 5*b2.ms)\n",
    "input_intensity = 2.\n",
    "start_input_intensity = input_intensity    # is not necessary\n",
    "\n",
    "tc_pre_ee = 20*b2.ms\n",
    "tc_post_1_ee = 20*b2.ms\n",
    "tc_post_2_ee = 40*b2.ms\n",
    "nu_ee_pre =  0.0001      # learning rate\n",
    "nu_ee_post = 0.01       # learning rate\n",
    "wmax_ee = 1.0\n",
    "# exp_ee_pre = 0.2\n",
    "# exp_ee_post = exp_ee_pre\n",
    "# STDP_offset = 0.4"
   ]
  },
  {
   "cell_type": "code",
   "execution_count": 42,
   "metadata": {},
   "outputs": [],
   "source": [
    "if test_mode:\n",
    "    scr_e = 'v = v_reset_e; timer = 0*ms'\n",
    "else:\n",
    "    tc_theta = 1e7 * b2.ms\n",
    "    theta_plus_e = 0.05 * b2.mV\n",
    "    scr_e = 'v = v_reset_e; theta += theta_plus_e; timer = 0*ms'\n",
    "offset = 20.0*b2.mV\n",
    "v_thresh_e_str = '(v>(theta - offset + v_thresh_e)) and (timer>refrac_e)'\n",
    "v_thresh_i_str = 'v>v_thresh_i'\n",
    "v_reset_i_str = 'v=v_reset_i'\n",
    "\n",
    "neuron_eqs_e = '''\n",
    "        dv/dt = ((v_rest_e - v) + (I_synE+I_synI) / nS) / (100*ms)  : volt (unless refractory)\n",
    "        I_synE = ge * nS * -v                                    : amp\n",
    "        I_synI = gi * nS * (-100.*mV-v)                          : amp\n",
    "        dge/dt = -ge/(1.0*ms)                                    : 1\n",
    "        dgi/dt = -gi/(2.0*ms)                                    : 1\n",
    "        '''\n",
    "if test_mode:\n",
    "    neuron_eqs_e += '\\n  theta      :volt'\n",
    "else:\n",
    "    neuron_eqs_e += '\\n  dtheta/dt = -theta / (tc_theta)  : volt'\n",
    "neuron_eqs_e += '\\n  dtimer/dt = 0.1  : second'\n",
    "\n",
    "neuron_eqs_i = '''\n",
    "        dv/dt = ((v_rest_i - v) + (I_synE+I_synI) / nS) / (10*ms)  : volt (unless refractory)\n",
    "        I_synE = ge * nS *         -v                           : amp\n",
    "        I_synI = gi * nS * (-85.*mV-v)                          : amp\n",
    "        dge/dt = -ge/(1.0*ms)                                   : 1\n",
    "        dgi/dt = -gi/(2.0*ms)                                  : 1\n",
    "        '''\n",
    "eqs_stdp_ee = '''\n",
    "                post2before                            : 1\n",
    "                dpre/dt   =   -pre/(tc_pre_ee)         : 1 (event-driven)\n",
    "                dpost1/dt  = -post1/(tc_post_1_ee)     : 1 (event-driven)\n",
    "                dpost2/dt  = -post2/(tc_post_2_ee)     : 1 (event-driven)\n",
    "            '''\n",
    "eqs_stdp_pre_ee = 'pre = 1.; w = clip(w + nu_ee_pre * post1, 0, wmax_ee)'\n",
    "eqs_stdp_post_ee = 'post2before = post2; w = clip(w + nu_ee_post * pre * post2before, 0, wmax_ee); post1 = 1.; post2 = 1.'\n",
    "\n",
    "b2.ion()\n",
    "fig_num = 1\n",
    "neuron_groups = {}\n",
    "input_groups = {}\n",
    "connections = {}\n",
    "rate_monitors = {}\n",
    "spike_monitors = {}\n",
    "spike_counters = {}\n",
    "result_monitor = np.zeros((update_interval,n_e))\n",
    "\n",
    "neuron_groups['e'] = b2.NeuronGroup(n_e*len(population_names), neuron_eqs_e, threshold= v_thresh_e_str, refractory= refrac_e, reset= scr_e, method='euler')\n",
    "neuron_groups['i'] = b2.NeuronGroup(n_i*len(population_names), neuron_eqs_i, threshold= v_thresh_i_str, refractory= refrac_i, reset= v_reset_i_str, method='euler')\n"
   ]
  },
  {
   "cell_type": "code",
   "execution_count": 43,
   "metadata": {},
   "outputs": [
    {
     "data": {
      "text/html": [
       "NeuronGroup \"neurongroup_3\" with 400 neurons.<br>\n",
       "<b>Model:</b><nr>\n",
       "\\begin{align*}I_{synE} &= - ge nS v && \\text{(unit of $I_{synE}$: $\\mathrm{A}$)}\\\\\n",
       "I_{synI} &= gi nS \\left(- 85.0 mV - v\\right) && \\text{(unit of $I_{synI}$: $\\mathrm{A}$)}\\\\\n",
       "\\frac{\\mathrm{d}v}{\\mathrm{d}t} &= \\frac{0.1 \\left(- v + v_{rest i} + \\frac{I_{synE} + I_{synI}}{nS}\\right) \\operatorname{int_{}}{\\left (not_{refractory} \\right )}}{ms} && \\text{(unit of $v$: $\\mathrm{V}$, flags: unless refractory)}\\\\\n",
       "\\frac{\\mathrm{d}ge}{\\mathrm{d}t} &= - \\frac{1.0 ge}{ms} && \\text{(unit of $ge$: $\\mathrm{rad}$)}\\\\\n",
       "\\frac{\\mathrm{d}gi}{\\mathrm{d}t} &= - \\frac{0.5 gi}{ms} && \\text{(unit of $gi$: $\\mathrm{rad}$)}\\\\\n",
       "not_{refractory} &&& \\text{(unit: $\\mathrm{rad}$)}\\\\\n",
       "lastspike &&& \\text{(unit: $\\mathrm{s}$)}\\end{align*}\n",
       "<b>Spiking behaviour:</b><ul style=\"list-style-type: none; margin-top: 0px;\">\n",
       "<li><i>Threshold condition: </i>\n",
       "<code>v>v_thresh_i</code></li>\n",
       "<li><i>Reset statement(s):</i>\n",
       "<code>v=v_reset_i</code></li>\n",
       "</ul>"
      ],
      "text/plain": [
       "NeuronGroup(clock=Clock(dt=100. * usecond, name='defaultclock'), when=start, order=0, name='neurongroup_3')"
      ]
     },
     "execution_count": 43,
     "metadata": {},
     "output_type": "execute_result"
    }
   ],
   "source": [
    "neuron_groups['i']"
   ]
  },
  {
   "cell_type": "code",
   "execution_count": 44,
   "metadata": {
    "scrolled": true
   },
   "outputs": [
    {
     "data": {
      "text/html": [
       "NeuronGroup \"neurongroup_2\" with 400 neurons.<br>\n",
       "<b>Model:</b><nr>\n",
       "\\begin{align*}I_{synE} &= - ge nS v && \\text{(unit of $I_{synE}$: $\\mathrm{A}$)}\\\\\n",
       "I_{synI} &= gi nS \\left(- 100.0 mV - v\\right) && \\text{(unit of $I_{synI}$: $\\mathrm{A}$)}\\\\\n",
       "\\frac{\\mathrm{d}v}{\\mathrm{d}t} &= \\frac{0.01 \\left(- v + v_{rest e} + \\frac{I_{synE} + I_{synI}}{nS}\\right) \\operatorname{int_{}}{\\left (not_{refractory} \\right )}}{ms} && \\text{(unit of $v$: $\\mathrm{V}$, flags: unless refractory)}\\\\\n",
       "\\frac{\\mathrm{d}ge}{\\mathrm{d}t} &= - \\frac{1.0 ge}{ms} && \\text{(unit of $ge$: $\\mathrm{rad}$)}\\\\\n",
       "\\frac{\\mathrm{d}gi}{\\mathrm{d}t} &= - \\frac{0.5 gi}{ms} && \\text{(unit of $gi$: $\\mathrm{rad}$)}\\\\\n",
       "\\frac{\\mathrm{d}\\theta}{\\mathrm{d}t} &= - \\frac{\\theta}{tc_{\\theta}} && \\text{(unit of $\\theta$: $\\mathrm{V}$)}\\\\\n",
       "\\frac{\\mathrm{d}timer}{\\mathrm{d}t} &= 0.1 && \\text{(unit of $timer$: $\\mathrm{s}$)}\\\\\n",
       "not_{refractory} &&& \\text{(unit: $\\mathrm{rad}$)}\\\\\n",
       "lastspike &&& \\text{(unit: $\\mathrm{s}$)}\\end{align*}\n",
       "<b>Spiking behaviour:</b><ul style=\"list-style-type: none; margin-top: 0px;\">\n",
       "<li><i>Threshold condition: </i>\n",
       "<code>(v>(theta - offset + v_thresh_e)) and (timer>refrac_e)</code></li>\n",
       "<li><i>Reset statement(s):</i>\n",
       "<code>v = v_reset_e; theta += theta_plus_e; timer = 0*ms</code></li>\n",
       "</ul>"
      ],
      "text/plain": [
       "NeuronGroup(clock=Clock(dt=100. * usecond, name='defaultclock'), when=start, order=0, name='neurongroup_2')"
      ]
     },
     "execution_count": 44,
     "metadata": {},
     "output_type": "execute_result"
    }
   ],
   "source": [
    "neuron_groups['e']"
   ]
  },
  {
   "cell_type": "code",
   "execution_count": 53,
   "metadata": {},
   "outputs": [
    {
     "name": "stdout",
     "output_type": "stream",
     "text": [
      "create neuron group A\n",
      "create recurrent connections\n",
      "AeAi\n",
      "(225, 3) ./test_random/AeAi.npy\n",
      "pre  ge_post += w\n",
      "post  \n",
      "w : 1\n",
      "AiAe\n",
      "(50625, 3) ./test_random/AiAe.npy\n",
      "pre  gi_post += w\n",
      "post  \n",
      "w : 1\n",
      "create monitors for A\n"
     ]
    }
   ],
   "source": [
    "for subgroup_n, name in enumerate(population_names):\n",
    "    print('create neuron group', name)\n",
    "\n",
    "    neuron_groups[name+'e'] = neuron_groups['e'][subgroup_n*n_e:(subgroup_n+1)*n_e]\n",
    "    neuron_groups[name+'i'] = neuron_groups['i'][subgroup_n*n_i:(subgroup_n+1)*n_e]\n",
    "\n",
    "    neuron_groups[name+'e'].v = v_rest_e - 40. * mV\n",
    "    neuron_groups[name+'i'].v = v_rest_i - 40. * mV\n",
    "    if test_mode or weight_path[-8:] == 'weights/':\n",
    "        neuron_groups['e'].theta = np.load(weight_path + 'theta_' + name + ending + '.npy') * volt\n",
    "    else:\n",
    "        neuron_groups['e'].theta = np.ones((n_e)) * 20.0*mV\n",
    "\n",
    "    print('create recurrent connections')\n",
    "    for conn_type in recurrent_conn_names:\n",
    "        connName = name+conn_type[0]+name+conn_type[1]\n",
    "        print(connName)\n",
    "        weightMatrix = get_matrix_from_file('./test_random/' + connName + ending + '.npy')\n",
    "        model = 'w : 1'\n",
    "        pre = 'g%s_post += w' % conn_type[0]\n",
    "        post = ''\n",
    "        if ee_STDP_on:\n",
    "            if 'ee' in recurrent_conn_names:\n",
    "                print('lskdfjdkfj')\n",
    "                model += eqs_stdp_ee\n",
    "                pre += '; ' + eqs_stdp_pre_ee\n",
    "                post = eqs_stdp_post_ee\n",
    "        print(\"pre \",pre)\n",
    "        print(\"post \",post)\n",
    "        print(model)\n",
    "        connections[connName] = b2.Synapses(neuron_groups[connName[0:2]], neuron_groups[connName[2:4]],\n",
    "                                                    model=model, on_pre=pre, on_post=post)\n",
    "        connections[connName].connect(True) # all-to-all connection\n",
    "        connections[connName].w = weightMatrix[connections[connName].i, connections[connName].j]\n",
    "\n",
    "    print('create monitors for', name)\n",
    "    rate_monitors[name+'e'] = b2.PopulationRateMonitor(neuron_groups[name+'e'])\n",
    "    rate_monitors[name+'i'] = b2.PopulationRateMonitor(neuron_groups[name+'i'])\n",
    "    spike_counters[name+'e'] = b2.SpikeMonitor(neuron_groups[name+'e'])\n",
    "\n",
    "    if record_spikes:\n",
    "        spike_monitors[name+'e'] = b2.SpikeMonitor(neuron_groups[name+'e'])\n",
    "        spike_monitors[name+'i'] = b2.SpikeMonitor(neuron_groups[name+'i'])"
   ]
  },
  {
   "cell_type": "markdown",
   "metadata": {},
   "source": [
    "create input population and connections from input populations"
   ]
  },
  {
   "cell_type": "code",
   "execution_count": 50,
   "metadata": {},
   "outputs": [],
   "source": [
    "pop_values = [0,0,0]\n",
    "for i,name in enumerate(input_population_names):\n",
    "    input_groups[name+'e'] = PoissonGroup(n_input, 0*Hz)\n",
    "    rate_monitors[name+'e'] = PopulationRateMonitor(input_groups[name+'e'])"
   ]
  },
  {
   "cell_type": "code",
   "execution_count": 62,
   "metadata": {},
   "outputs": [
    {
     "name": "stdout",
     "output_type": "stream",
     "text": [
      "create connections between X and A\n",
      "XeAe\n",
      "(176400, 3) ./test_random/XeAe.npy\n",
      "create STDP for connection XeAe\n"
     ]
    }
   ],
   "source": [
    "for name in input_connection_names:\n",
    "    print('create connections between', name[0], 'and', name[1])\n",
    "    for connType in input_conn_names:\n",
    "        connName = name[0] + connType[0] + name[1] + connType[1]\n",
    "        print(connName)\n",
    "        weightMatrix = get_matrix_from_file('./test_random/' + connName + ending + '.npy')\n",
    "        model = 'w : 1'\n",
    "        pre = 'g%s_post += w' % connType[0]\n",
    "        post = ''\n",
    "        if ee_STDP_on:\n",
    "            print('create STDP for connection', name[0]+'e'+name[1]+'e')\n",
    "            model += eqs_stdp_ee\n",
    "            pre += '; ' + eqs_stdp_pre_ee\n",
    "            post = eqs_stdp_post_ee\n",
    "\n",
    "        connections[connName] = b2.Synapses(input_groups[connName[0:2]], neuron_groups[connName[2:4]], model=model, on_pre=pre, on_post=post)\n",
    "        minDelay = delay[connType][0]\n",
    "        maxDelay = delay[connType][1]\n",
    "        deltaDelay = maxDelay - minDelay\n",
    "        # TODO: test this\n",
    "        connections[connName].connect(True) # all-to-all connection\n",
    "        connections[connName].delay = 'minDelay + rand() * deltaDelay'\n",
    "        connections[connName].w = weightMatrix[connections[connName].i, connections[connName].j]"
   ]
  },
  {
   "cell_type": "code",
   "execution_count": 64,
   "metadata": {},
   "outputs": [
    {
     "data": {
      "text/plain": [
       "'XeAe'"
      ]
     },
     "execution_count": 64,
     "metadata": {},
     "output_type": "execute_result"
    }
   ],
   "source": [
    "connName"
   ]
  },
  {
   "cell_type": "markdown",
   "metadata": {},
   "source": [
    "Run the simulation and set inputs"
   ]
  },
  {
   "cell_type": "code",
   "execution_count": 1,
   "metadata": {},
   "outputs": [
    {
     "ename": "NameError",
     "evalue": "name 'Network' is not defined",
     "output_type": "error",
     "traceback": [
      "\u001b[1;31m---------------------------------------------------------------------------\u001b[0m",
      "\u001b[1;31mNameError\u001b[0m                                 Traceback (most recent call last)",
      "\u001b[1;32m<ipython-input-1-25d2cd10900d>\u001b[0m in \u001b[0;36m<module>\u001b[1;34m\u001b[0m\n\u001b[1;32m----> 1\u001b[1;33m \u001b[0mnet\u001b[0m \u001b[1;33m=\u001b[0m \u001b[0mNetwork\u001b[0m\u001b[1;33m(\u001b[0m\u001b[1;33m)\u001b[0m\u001b[1;33m\u001b[0m\u001b[1;33m\u001b[0m\u001b[0m\n\u001b[0m\u001b[0;32m      2\u001b[0m \u001b[1;32mfor\u001b[0m \u001b[0mobj_list\u001b[0m \u001b[1;32min\u001b[0m \u001b[1;33m[\u001b[0m\u001b[0mneuron_groups\u001b[0m\u001b[1;33m,\u001b[0m \u001b[0minput_groups\u001b[0m\u001b[1;33m,\u001b[0m \u001b[0mconnections\u001b[0m\u001b[1;33m,\u001b[0m \u001b[0mrate_monitors\u001b[0m\u001b[1;33m,\u001b[0m \u001b[0mspike_monitors\u001b[0m\u001b[1;33m,\u001b[0m \u001b[0mspike_counters\u001b[0m\u001b[1;33m]\u001b[0m\u001b[1;33m:\u001b[0m\u001b[1;33m\u001b[0m\u001b[1;33m\u001b[0m\u001b[0m\n\u001b[0;32m      3\u001b[0m     \u001b[0mprint\u001b[0m\u001b[1;33m(\u001b[0m\u001b[0mobj_list\u001b[0m\u001b[1;33m)\u001b[0m\u001b[1;33m\u001b[0m\u001b[1;33m\u001b[0m\u001b[0m\n\u001b[0;32m      4\u001b[0m     \u001b[1;32mfor\u001b[0m \u001b[0mkey\u001b[0m \u001b[1;32min\u001b[0m \u001b[0mobj_list\u001b[0m\u001b[1;33m:\u001b[0m\u001b[1;33m\u001b[0m\u001b[1;33m\u001b[0m\u001b[0m\n\u001b[0;32m      5\u001b[0m         \u001b[0mprint\u001b[0m\u001b[1;33m(\u001b[0m\u001b[0mkey\u001b[0m\u001b[1;33m)\u001b[0m\u001b[1;33m\u001b[0m\u001b[1;33m\u001b[0m\u001b[0m\n",
      "\u001b[1;31mNameError\u001b[0m: name 'Network' is not defined"
     ]
    }
   ],
   "source": [
    "net = Network()\n",
    "for obj_list in [neuron_groups, input_groups, connections, rate_monitors, spike_monitors, spike_counters]:\n",
    "    print(obj_list)\n",
    "    for key in obj_list:\n",
    "        print(key)\n",
    "        net.add(obj_list[key])"
   ]
  },
  {
   "cell_type": "code",
   "execution_count": null,
   "metadata": {
    "scrolled": true
   },
   "outputs": [
    {
     "name": "stderr",
     "output_type": "stream",
     "text": [
      "WARNING    C:\\Users\\Lahiru Sampath\\Anaconda3\\envs\\sim\\lib\\site-packages\\matplotlib\\axes\\_base.py:3610: MatplotlibDeprecationWarning: \n",
      "The `ymax` argument was deprecated in Matplotlib 3.0 and will be removed in 3.2. Use `top` instead.\n",
      "  alternative='`top`', obj_type='argument')\n",
      " [py.warnings]\n",
      "WARNING:py.warnings:C:\\Users\\Lahiru Sampath\\Anaconda3\\envs\\sim\\lib\\site-packages\\matplotlib\\axes\\_base.py:3610: MatplotlibDeprecationWarning: \n",
      "The `ymax` argument was deprecated in Matplotlib 3.0 and will be removed in 3.2. Use `top` instead.\n",
      "  alternative='`top`', obj_type='argument')\n",
      "\n",
      "WARNING    C:\\Users\\Lahiru Sampath\\Anaconda3\\envs\\sim\\lib\\site-packages\\ipykernel_launcher.py:10: RuntimeWarning: divide by zero encountered in true_divide\n",
      "  # Remove the CWD from sys.path while we load stuff.\n",
      " [py.warnings]\n",
      "WARNING:py.warnings:C:\\Users\\Lahiru Sampath\\Anaconda3\\envs\\sim\\lib\\site-packages\\ipykernel_launcher.py:10: RuntimeWarning: divide by zero encountered in true_divide\n",
      "  # Remove the CWD from sys.path while we load stuff.\n",
      "\n",
      "WARNING    C:\\Users\\Lahiru Sampath\\Anaconda3\\envs\\sim\\lib\\site-packages\\ipykernel_launcher.py:12: RuntimeWarning: invalid value encountered in multiply\n",
      "  if sys.path[0] == '':\n",
      " [py.warnings]\n",
      "WARNING:py.warnings:C:\\Users\\Lahiru Sampath\\Anaconda3\\envs\\sim\\lib\\site-packages\\ipykernel_launcher.py:12: RuntimeWarning: invalid value encountered in multiply\n",
      "  if sys.path[0] == '':\n",
      "\n"
     ]
    },
    {
     "name": "stdout",
     "output_type": "stream",
     "text": [
      "run number: 1 of 180000\n",
      "Starting simulation at t=0. s for a duration of 0.35 s\n"
     ]
    },
    {
     "name": "stderr",
     "output_type": "stream",
     "text": [
      "WARNING    <string>:23: RuntimeWarning: invalid value encountered in greater\n",
      " [py.warnings]\n",
      "WARNING:py.warnings:<string>:23: RuntimeWarning: invalid value encountered in greater\n",
      "\n",
      "WARNING    neurongroup's variable 'v' has NaN, very large values, or encountered an error in numerical integration. This is usually a sign that an unstable or invalid integration method was chosen. [brian2.groups.group.invalid_values]\n",
      "WARNING    neurongroup's variable 'ge' has NaN, very large values, or encountered an error in numerical integration. This is usually a sign that an unstable or invalid integration method was chosen. [brian2.groups.group.invalid_values]\n",
      "WARNING    neurongroup_subgroup_2's variable 'v' has NaN, very large values, or encountered an error in numerical integration. This is usually a sign that an unstable or invalid integration method was chosen. [brian2.groups.group.invalid_values]\n",
      "WARNING    neurongroup_subgroup_2's variable 'ge' has NaN, very large values, or encountered an error in numerical integration. This is usually a sign that an unstable or invalid integration method was chosen. [brian2.groups.group.invalid_values]\n"
     ]
    },
    {
     "name": "stdout",
     "output_type": "stream",
     "text": [
      "0.35 (100%) simulated in 4s\n",
      "number of spikes  [0 0 0 0 0 0 0 0 0 0 0 0 0 0 0 0 0 0 0 0 0 0 0 0 0 0 0 0 0 0 0 0 0 0 0 0 0\n",
      " 0 0 0 0 0 0 0 0 0 0 0 0 0 0 0 0 0 0 0 0 0 0 0 0 6 0 0 0 0 0 0 0 0 0 0 0 0\n",
      " 0 0 0 0 0 0 0 0 0 0 0 0 0 0 0 0 0 0 0 0 0 0 0 0 0 0 0 0 0 0 0 0 0 0 0 0 0\n",
      " 0 0 0 0 0 0 0 0 0 0 0 0 0 0 0 0 0 0 0 0 0 0 0 0 0 0 0 0 0 0 0 0 0 0 0 6 0\n",
      " 0 0 0 0 0 0 0 0 0 0 0 0 0 0 0 0 0 0 0 0 0 0 0 0 0 0 0 0 0 0 0 0 0 0 0 0 0\n",
      " 0 0 0 0 0 0 0 0 0 0 0 0 0 0 0 0 0 0 0 0 0 0 0 0 0 0 0 0 0 0 0 0 0 0 0 0 0\n",
      " 0 0 0 0 0 0 0 0 0 0 0 0 0 0 0 0 0 0 0 0 0 0 0 0 0 0 0 0 0 0 0 0 0 0 0 0 0\n",
      " 0 0 0 0 0 0 0 0 0 0 0 0 0 0 0 0 0 0 0 0 0 0 0 0 0 0 0 0 0 0 0 0 0 0 0 0 0\n",
      " 0 0 0 0 0 0 0 0 0 0 0 0 0 0 0 0 0 0 0 0 0 0 0 0 0 0 0 0 0 0 0 0 0 0 0 0 0\n",
      " 0 0 0 0 0 0 0 0 0 0 0 0 0 0 0 0 0 0 0 0 0 0 0 0 0 0 0 0 0 0 0 0 0 0 0 0 0\n",
      " 0 0 0 0 0 0 0 0 0 0 0 0 0 0 0 0 0 0 0 0 0 0 0 0 0 0 0 0 0 0]\n"
     ]
    },
    {
     "name": "stderr",
     "output_type": "stream",
     "text": [
      "WARNING    <string>:23: RuntimeWarning: invalid value encountered in greater\n",
      " [py.warnings]\n",
      "WARNING:py.warnings:<string>:23: RuntimeWarning: invalid value encountered in greater\n",
      "\n"
     ]
    },
    {
     "name": "stdout",
     "output_type": "stream",
     "text": [
      "run number: 2 of 180000\n",
      "Starting simulation at t=0.5 s for a duration of 0.35 s\n"
     ]
    },
    {
     "name": "stderr",
     "output_type": "stream",
     "text": [
      "WARNING    <string>:23: RuntimeWarning: invalid value encountered in greater\n",
      " [py.warnings]\n",
      "WARNING:py.warnings:<string>:23: RuntimeWarning: invalid value encountered in greater\n",
      "\n"
     ]
    },
    {
     "name": "stdout",
     "output_type": "stream",
     "text": [
      "0.35 (100%) simulated in 3s\n",
      "number of spikes  [0 0 0 0 0 0 0 0 0 0 0 0 0 0 0 0 0 0 0 0 0 0 0 0 0 0 0 0 0 0 0 0 0 0 0 0 0\n",
      " 0 0 0 0 0 0 0 0 0 0 0 3 0 0 0 0 0 0 0 0 0 0 0 0 6 0 0 0 0 0 0 0 0 0 3 0 0\n",
      " 0 0 0 5 0 0 0 0 0 0 0 0 0 0 0 0 0 0 0 0 0 0 0 0 0 0 0 0 0 0 0 0 0 0 0 0 0\n",
      " 0 0 0 0 0 0 0 0 0 0 0 0 0 0 0 0 0 0 0 0 0 0 0 0 0 0 0 0 0 0 0 0 0 0 0 7 0\n",
      " 0 0 0 0 0 0 0 0 0 0 0 0 0 0 0 0 0 0 0 0 0 0 0 0 0 0 0 0 0 0 0 0 0 0 0 0 0\n",
      " 0 0 0 0 0 0 0 0 0 0 0 3 0 0 0 0 0 0 0 0 0 0 0 0 0 0 0 0 0 0 0 0 0 0 0 0 0\n",
      " 0 0 0 0 0 0 0 0 0 0 0 0 0 0 0 0 0 0 0 0 0 0 0 0 0 0 0 0 0 0 0 0 0 0 0 0 0\n",
      " 0 0 0 0 0 0 0 0 0 0 0 0 0 0 0 0 0 0 0 0 0 0 0 0 0 0 0 0 0 0 0 0 0 0 0 0 0\n",
      " 0 0 0 0 0 0 0 0 0 0 0 0 0 0 0 0 0 0 0 0 0 0 0 0 0 0 0 0 0 0 0 0 0 0 0 0 0\n",
      " 0 0 0 0 0 0 0 0 0 0 0 0 0 0 0 0 0 0 0 0 0 0 0 0 0 0 0 0 0 0 0 0 0 0 0 0 0\n",
      " 0 0 0 0 0 0 0 0 0 0 0 0 0 0 0 0 0 0 0 0 0 0 0 0 0 0 0 0 0 0]\n"
     ]
    },
    {
     "name": "stderr",
     "output_type": "stream",
     "text": [
      "WARNING    <string>:23: RuntimeWarning: invalid value encountered in greater\n",
      " [py.warnings]\n",
      "WARNING:py.warnings:<string>:23: RuntimeWarning: invalid value encountered in greater\n",
      "\n"
     ]
    },
    {
     "name": "stdout",
     "output_type": "stream",
     "text": [
      "run number: 3 of 180000\n",
      "Starting simulation at t=1. s for a duration of 0.35 s\n"
     ]
    },
    {
     "name": "stderr",
     "output_type": "stream",
     "text": [
      "WARNING    <string>:23: RuntimeWarning: invalid value encountered in greater\n",
      " [py.warnings]\n",
      "WARNING:py.warnings:<string>:23: RuntimeWarning: invalid value encountered in greater\n",
      "\n"
     ]
    },
    {
     "name": "stdout",
     "output_type": "stream",
     "text": [
      "0.35 (100%) simulated in 3s\n",
      "number of spikes  [0 0 0 0 0 0 0 0 0 0 0 0 0 0 0 0 0 0 0 0 0 0 0 0 0 0 1 0 0 0 0 0 0 0 0 0 0\n",
      " 0 0 0 0 0 0 0 0 0 1 0 4 0 0 0 0 0 0 0 0 0 0 0 0 6 0 0 0 0 0 0 0 0 0 4 1 0\n",
      " 0 0 0 7 0 0 0 0 0 0 0 0 0 0 0 0 0 0 0 0 0 0 0 0 0 0 0 0 0 0 0 0 0 0 0 0 0\n",
      " 0 0 0 0 0 0 0 0 0 0 0 0 0 0 0 0 0 0 0 0 0 0 0 0 0 0 0 0 0 0 0 0 0 0 0 7 0\n",
      " 0 0 0 0 0 0 0 0 0 0 0 0 0 0 1 0 0 0 0 1 0 0 0 0 0 0 0 0 0 0 0 0 0 0 0 0 0\n",
      " 0 0 0 0 0 0 0 0 0 0 0 3 0 0 0 0 0 0 0 0 0 0 0 0 0 0 0 0 0 0 0 0 0 0 0 0 0\n",
      " 0 0 0 0 0 0 0 0 0 0 0 0 0 0 0 0 0 0 0 0 0 0 0 0 0 0 0 0 0 0 0 0 0 0 0 0 0\n",
      " 0 0 0 0 0 0 0 0 0 0 0 0 0 0 0 0 0 0 0 0 0 0 0 0 0 0 0 0 0 0 0 0 0 0 0 0 0\n",
      " 0 0 0 0 0 0 0 0 0 0 0 0 0 0 0 0 0 0 0 0 0 0 0 0 0 0 0 0 0 0 0 0 0 0 0 0 0\n",
      " 0 0 0 0 0 0 0 0 0 0 0 0 0 0 0 0 0 0 0 0 0 0 0 0 0 0 0 0 0 0 0 0 0 0 0 0 0\n",
      " 0 0 0 0 0 0 0 0 0 0 0 0 0 0 0 0 0 0 0 0 0 0 0 0 0 0 0 0 0 0]\n"
     ]
    },
    {
     "name": "stderr",
     "output_type": "stream",
     "text": [
      "WARNING    <string>:23: RuntimeWarning: invalid value encountered in greater\n",
      " [py.warnings]\n",
      "WARNING:py.warnings:<string>:23: RuntimeWarning: invalid value encountered in greater\n",
      "\n"
     ]
    },
    {
     "name": "stdout",
     "output_type": "stream",
     "text": [
      "run number: 4 of 180000\n",
      "Starting simulation at t=1.5 s for a duration of 0.35 s\n"
     ]
    },
    {
     "name": "stderr",
     "output_type": "stream",
     "text": [
      "WARNING    <string>:23: RuntimeWarning: invalid value encountered in greater\n",
      " [py.warnings]\n",
      "WARNING:py.warnings:<string>:23: RuntimeWarning: invalid value encountered in greater\n",
      "\n"
     ]
    },
    {
     "name": "stdout",
     "output_type": "stream",
     "text": [
      "0.35 (100%) simulated in 3s\n",
      "number of spikes  [0 0 0 0 0 0 0 0 0 0 0 0 0 0 0 0 0 0 0 0 0 0 0 0 0 0 1 0 0 0 0 0 0 0 0 0 0\n",
      " 0 0 0 0 3 0 0 0 0 1 0 4 0 0 0 0 0 0 0 0 0 0 0 0 6 0 0 0 0 0 0 0 0 0 4 1 0\n",
      " 0 0 0 9 0 0 0 0 0 0 0 0 0 0 0 0 0 0 0 0 0 0 0 0 0 0 0 0 0 0 0 0 0 0 0 1 0\n",
      " 0 0 0 0 0 0 0 0 0 0 0 0 0 0 0 0 0 0 0 0 0 0 0 0 0 0 0 0 0 0 0 0 0 0 0 7 0\n",
      " 0 0 0 0 0 0 0 0 0 0 0 0 0 0 1 0 0 0 0 1 0 0 0 0 0 0 0 0 0 0 0 0 0 0 0 0 0\n",
      " 0 0 0 0 0 0 0 0 0 0 0 3 0 0 0 0 0 0 0 0 0 0 0 0 0 0 0 0 0 0 0 0 0 0 0 0 0\n",
      " 0 0 0 0 0 0 0 0 0 0 0 0 0 0 0 0 0 0 0 0 0 0 0 0 0 0 0 0 0 0 0 0 0 0 0 0 0\n",
      " 0 0 0 0 0 0 0 0 0 0 0 0 0 0 0 0 0 0 0 0 0 0 0 0 0 0 0 0 0 0 0 0 0 0 0 0 0\n",
      " 0 0 0 0 0 0 0 0 0 0 0 0 0 0 0 0 0 0 0 0 0 0 0 0 0 0 0 0 0 0 0 0 0 0 0 0 0\n",
      " 0 0 0 0 0 0 0 0 0 0 0 0 0 0 0 0 0 0 0 0 0 0 0 0 0 0 0 0 0 0 0 0 0 0 0 0 0\n",
      " 0 0 0 0 0 0 0 0 0 0 0 0 0 0 0 0 0 0 0 0 0 0 0 0 0 0 0 0 0 0]\n"
     ]
    },
    {
     "name": "stderr",
     "output_type": "stream",
     "text": [
      "WARNING    <string>:23: RuntimeWarning: invalid value encountered in greater\n",
      " [py.warnings]\n",
      "WARNING:py.warnings:<string>:23: RuntimeWarning: invalid value encountered in greater\n",
      "\n"
     ]
    },
    {
     "name": "stdout",
     "output_type": "stream",
     "text": [
      "run number: 5 of 180000\n",
      "Starting simulation at t=2. s for a duration of 0.35 s\n"
     ]
    },
    {
     "name": "stderr",
     "output_type": "stream",
     "text": [
      "WARNING    <string>:23: RuntimeWarning: invalid value encountered in greater\n",
      " [py.warnings]\n",
      "WARNING:py.warnings:<string>:23: RuntimeWarning: invalid value encountered in greater\n",
      "\n"
     ]
    },
    {
     "name": "stdout",
     "output_type": "stream",
     "text": [
      "0.35 (100%) simulated in 2s\n",
      "number of spikes  [0 0 0 0 0 0 0 0 0 0 0 0 1 0 0 0 0 0 0 0 0 0 0 0 0 0 1 0 0 0 0 0 0 0 0 0 0\n",
      " 0 0 0 0 4 0 0 1 0 1 0 4 1 0 0 0 0 0 0 0 0 0 1 0 6 0 0 0 0 0 0 0 0 0 4 1 0\n",
      " 0 0 0 9 0 0 0 0 0 0 0 0 0 0 0 0 0 0 0 0 0 0 0 0 0 0 0 0 0 0 1 0 0 2 0 1 0\n",
      " 0 0 0 0 0 0 0 0 0 0 0 0 0 0 0 0 0 0 0 0 0 0 0 0 0 0 0 0 0 0 0 0 0 0 0 7 0\n",
      " 0 0 0 0 0 0 0 0 0 0 0 0 0 0 1 0 0 0 0 1 0 0 0 0 0 0 0 0 0 0 0 0 0 0 0 0 0\n",
      " 0 0 0 0 0 0 0 0 0 0 0 3 0 0 0 0 0 0 0 0 0 0 0 0 0 0 0 0 0 0 0 0 0 0 0 0 0\n",
      " 0 0 0 0 0 0 0 0 0 0 0 0 0 0 0 0 0 0 0 0 0 0 0 0 0 0 0 0 0 0 0 0 0 0 0 0 0\n",
      " 0 0 0 0 0 0 0 0 0 0 0 0 0 0 0 0 0 0 0 0 0 0 0 0 0 0 0 0 0 0 0 0 0 0 0 0 0\n",
      " 0 0 0 0 0 0 0 0 0 0 0 0 0 0 0 0 0 0 0 0 0 0 0 0 0 0 0 0 0 0 0 0 0 0 0 0 0\n",
      " 0 0 0 0 0 0 0 0 0 0 0 0 0 0 0 0 0 0 0 0 0 0 0 0 0 0 0 0 0 0 0 0 0 0 0 0 0\n",
      " 0 0 0 0 0 0 0 0 0 0 0 0 0 0 0 0 0 0 0 0 0 0 0 0 0 0 0 0 0 0]\n"
     ]
    },
    {
     "name": "stderr",
     "output_type": "stream",
     "text": [
      "WARNING    <string>:23: RuntimeWarning: invalid value encountered in greater\n",
      " [py.warnings]\n",
      "WARNING:py.warnings:<string>:23: RuntimeWarning: invalid value encountered in greater\n",
      "\n"
     ]
    },
    {
     "name": "stdout",
     "output_type": "stream",
     "text": [
      "run number: 6 of 180000\n",
      "Starting simulation at t=2.5 s for a duration of 0.35 s\n"
     ]
    },
    {
     "name": "stderr",
     "output_type": "stream",
     "text": [
      "WARNING    <string>:23: RuntimeWarning: invalid value encountered in greater\n",
      " [py.warnings]\n",
      "WARNING:py.warnings:<string>:23: RuntimeWarning: invalid value encountered in greater\n",
      "\n"
     ]
    },
    {
     "name": "stdout",
     "output_type": "stream",
     "text": [
      "0.35 (100%) simulated in 3s\n",
      "number of spikes  [0 0 0 0 0 0 0 0 0 0 0 0 5 0 0 0 0 0 0 0 0 0 0 0 0 0 1 0 0 2 0 0 0 0 0 0 0\n",
      " 0 0 0 0 4 0 0 6 0 1 0 4 1 0 0 0 0 0 0 0 0 0 1 0 6 0 0 0 0 0 0 0 0 0 4 1 0\n",
      " 0 0 0 9 0 0 0 0 0 0 0 0 0 0 0 0 0 0 0 0 0 0 0 0 0 0 0 0 0 0 1 0 0 2 0 1 0\n",
      " 0 0 0 0 0 0 0 0 0 0 0 0 0 0 0 0 0 0 0 0 0 0 0 0 0 0 0 0 0 0 0 0 0 0 0 7 0\n",
      " 0 0 0 0 0 0 0 0 0 0 0 0 0 0 1 0 0 0 0 1 0 0 0 0 0 0 0 0 0 0 0 2 0 0 0 0 0\n",
      " 0 0 0 0 0 0 0 0 0 0 0 3 0 0 0 0 0 0 0 0 0 0 0 0 0 0 0 0 0 0 0 0 0 0 0 0 0\n",
      " 0 0 0 0 0 0 0 0 0 0 0 0 0 0 0 0 0 0 0 0 0 0 0 0 0 0 0 0 0 0 0 0 0 0 0 0 0\n",
      " 0 0 0 0 0 0 0 0 0 0 0 0 0 0 0 0 0 0 0 0 0 0 0 0 0 0 0 0 0 0 0 0 0 0 0 0 0\n",
      " 0 0 0 0 0 0 0 0 0 0 0 0 0 0 0 0 0 0 0 0 0 0 0 0 0 0 0 0 0 0 0 0 0 0 0 0 0\n",
      " 0 0 0 0 0 0 0 0 0 0 0 0 0 0 0 0 0 0 0 0 0 0 0 0 0 0 0 0 0 0 0 0 0 0 0 0 0\n",
      " 0 0 0 0 0 0 0 0 0 0 0 0 0 0 0 0 0 0 0 0 0 0 0 0 0 0 0 0 0 0]\n"
     ]
    },
    {
     "name": "stderr",
     "output_type": "stream",
     "text": [
      "WARNING    <string>:23: RuntimeWarning: invalid value encountered in greater\n",
      " [py.warnings]\n",
      "WARNING:py.warnings:<string>:23: RuntimeWarning: invalid value encountered in greater\n",
      "\n"
     ]
    },
    {
     "name": "stdout",
     "output_type": "stream",
     "text": [
      "run number: 7 of 180000\n",
      "Starting simulation at t=3. s for a duration of 0.35 s\n"
     ]
    },
    {
     "name": "stderr",
     "output_type": "stream",
     "text": [
      "WARNING    <string>:23: RuntimeWarning: invalid value encountered in greater\n",
      " [py.warnings]\n",
      "WARNING:py.warnings:<string>:23: RuntimeWarning: invalid value encountered in greater\n",
      "\n"
     ]
    },
    {
     "name": "stdout",
     "output_type": "stream",
     "text": [
      "0.35 (100%) simulated in 3s\n",
      "number of spikes  [0 0 0 0 0 0 0 0 0 0 0 0 6 0 0 0 0 0 0 0 0 0 0 0 0 0 1 0 0 2 0 0 0 0 0 0 0\n",
      " 0 0 0 0 4 0 0 6 0 1 0 4 1 0 0 0 0 0 0 0 0 0 1 0 9 0 0 0 0 0 0 0 0 0 4 1 0\n",
      " 0 0 0 9 0 0 0 0 0 0 0 0 0 0 0 0 0 0 0 0 0 0 0 0 0 0 0 0 0 0 1 0 0 2 0 1 0\n",
      " 0 0 0 0 0 0 0 0 0 0 0 0 0 0 0 0 0 0 0 0 0 0 0 0 0 0 0 0 0 0 0 0 0 0 0 7 0\n",
      " 0 0 0 0 0 0 0 0 0 0 0 0 0 0 1 0 0 0 0 1 0 0 0 0 0 0 0 0 0 0 0 2 0 0 0 0 0\n",
      " 1 0 0 0 0 0 0 0 0 0 0 3 0 0 0 0 0 0 0 0 0 0 0 0 0 0 0 0 0 0 0 0 0 0 1 0 0\n",
      " 0 0 0 0 0 0 0 0 0 0 0 0 0 0 0 0 0 0 0 0 0 0 0 0 0 0 0 0 0 0 0 0 0 0 0 0 0\n",
      " 0 0 0 0 0 0 0 0 0 0 0 0 0 0 0 0 0 0 0 0 0 0 0 0 0 0 0 0 0 0 0 0 0 0 0 0 0\n",
      " 0 0 0 0 0 0 0 0 0 0 0 0 0 0 0 0 0 0 0 0 0 0 0 0 0 0 0 0 0 0 0 0 0 0 0 0 0\n",
      " 0 0 0 0 0 0 0 0 0 0 0 0 0 0 0 0 0 0 0 0 0 0 0 0 0 0 0 0 0 0 0 0 0 0 0 0 0\n",
      " 0 0 0 0 0 0 0 0 0 0 0 0 0 0 0 0 0 0 0 0 0 0 0 0 0 0 0 0 0 0]\n"
     ]
    },
    {
     "name": "stderr",
     "output_type": "stream",
     "text": [
      "WARNING    <string>:23: RuntimeWarning: invalid value encountered in greater\n",
      " [py.warnings]\n",
      "WARNING:py.warnings:<string>:23: RuntimeWarning: invalid value encountered in greater\n",
      "\n"
     ]
    },
    {
     "name": "stdout",
     "output_type": "stream",
     "text": [
      "run number: 8 of 180000\n",
      "Starting simulation at t=3.5 s for a duration of 0.35 s\n"
     ]
    },
    {
     "name": "stderr",
     "output_type": "stream",
     "text": [
      "WARNING    <string>:23: RuntimeWarning: invalid value encountered in greater\n",
      " [py.warnings]\n",
      "WARNING:py.warnings:<string>:23: RuntimeWarning: invalid value encountered in greater\n",
      "\n"
     ]
    },
    {
     "name": "stdout",
     "output_type": "stream",
     "text": [
      "0.35 (100%) simulated in 3s\n",
      "number of spikes  [ 0  0  0  0  0  0  0  0  0  0  7  0  6  0  0  0  0  0  0  0  0  0  0  0\n",
      "  0  0  1  0  0  2  0  0  0  0  0  0  0  0  0  0  0  4  0  0  6  0  1  0\n",
      "  4  1  0  0  0  0  0  0  0  0  0  1  0  9  0  0  0  0  0  0  0  0  0  4\n",
      "  8  0  0  0  0 15  0  0  0  0  0  0  0  0  0  0  0  0  0  0  0  0  0  0\n",
      "  0  0  0  0  0  0  0  0  1  0  0  2  0  1  0  0  0  0  0  0  0  0  0  0\n",
      "  0  0  0  0  0  0  0  0  0  0  0  0  0  0  0  0  0  0  0  0  0  0  0  0\n",
      "  0  0  7  0  0  0  0  0  0  0  0  0  0  0  0  0  0  0  1  0  0  0  0  1\n",
      "  0  0  0  0  0  0  0  0  0  0  0  2  0  0  0  0  0  1  0  0  0  0  0  0\n",
      "  0  0  0  0  3  0  0  0  0  0  0  0  0  0  0  0  0  0  0  0  0  0  0  0\n",
      "  0  0  0  1  0  0  0  0  7  0  0  0  0  0  0  0  0  0  0  0  0  0  0  0\n",
      "  0  0  0  0  0  0  0  0  0  0  0  0  0  0  0  0  0  0  0  0  0  0  0  0\n",
      "  0  0  0  0  0  0  0  0  0  0  0  0  0  0  0  0  0  0  0  0  0  0  0  0\n",
      "  0  0  0  0  0  0  0  0  0  0  0  0  0  0  0  0  0  0  0  0  0  0  0  0\n",
      "  0  0  0  0  0  0  0  0  0  0  0  0  0  0  0  0  0  0  0  0  0  0  0  0\n",
      "  0  0  0  0  0  0  0  0  0  0  0  0  0  0  0  0  0  0  0  0  0  0  0  0\n",
      "  0  0  0  0  0  0  0  0  0  0  0  0  0  0  0  0  0  0  0  0  0  0  0  0\n",
      "  0  0  0  0  0  0  0  0  0  0  0  0  0  0  0  0]\n"
     ]
    },
    {
     "name": "stderr",
     "output_type": "stream",
     "text": [
      "WARNING    <string>:23: RuntimeWarning: invalid value encountered in greater\n",
      " [py.warnings]\n",
      "WARNING:py.warnings:<string>:23: RuntimeWarning: invalid value encountered in greater\n",
      "\n"
     ]
    },
    {
     "name": "stdout",
     "output_type": "stream",
     "text": [
      "run number: 9 of 180000\n",
      "Starting simulation at t=4. s for a duration of 0.35 s\n"
     ]
    },
    {
     "name": "stderr",
     "output_type": "stream",
     "text": [
      "WARNING    <string>:23: RuntimeWarning: invalid value encountered in greater\n",
      " [py.warnings]\n",
      "WARNING:py.warnings:<string>:23: RuntimeWarning: invalid value encountered in greater\n",
      "\n"
     ]
    },
    {
     "name": "stdout",
     "output_type": "stream",
     "text": [
      "0.35 (100%) simulated in 3s\n",
      "number of spikes  [ 0  0  0  0  0  0  0  0  0  0  7  0  6  0  0  0  0  0  0  0  0  0  0  0\n",
      "  0  0  1  0  0  2  0  0  0  0  0  0  0  0  0  0  0  4  0  0  6  0  1  0\n",
      "  4  1  0  0  0  0  0  0  0  0  0  1  1  9  0  0  0  0  0  0  0  0  0  4\n",
      "  8  0  0  0  0 15  0  0  0  0  0  0  0  0  0  0  0  0  0  0  0  0  0  0\n",
      "  0  0  0  0  0  0  0  0  1  0  0  2  0  1  0  0  0  0  0  0  0  0  0  0\n",
      "  0  0  0  0  0  0  0  0  0  0  0  2  0  0  0  0  0  0  0  0  0  0  0  0\n",
      "  0  0  7  0  0  0  0  0  0  0  0  0  0  0  0  0  0  0  1  0  0  0  0  1\n",
      "  0  0  0  0  0  0  0  0  0  0  0  2  0  0  0  0  0  1  0  0  0  0  0  0\n",
      "  0  0  0  0  3  0  0  0  0  0  0  0  0  0  0  0  0  0  0  0  0  0  0  0\n",
      "  0  0  0  1  0  0  0  0  7  0  0  0  0  0  0  0  0  0  0  0  0  0  0  0\n",
      "  0  0  0  0  0  0  0  0  0  0  0  0  0  0  0  0  0  0  0  0  0  0  0  0\n",
      "  0  0  0  0  0  0  0  0  0  0  0  0  0  0  0  0  0  0  0  0  0  0  0  0\n",
      "  0  0  0  0  0  0  0  0  0  0  0  0  0  0  0  0  0  0  0  0  0  0  0  0\n",
      "  0  0  0  0  0  0  0  0  0  0  0  0  0  0  0  0  0  0  0  0  0  0  0  0\n",
      "  0  0  0  0  0  0  0  0  0  0  0  0  0  0  0  0  0  0  0  0  0  0  0  0\n",
      "  0  0  0  0  0  0  0  0  0  0  0  0  0  0  0  0  0  0  0  0  0  0  0  0\n",
      "  0  0  0  0  0  0  0  0  0  0  0  0  0  0  0  0]\n"
     ]
    },
    {
     "name": "stderr",
     "output_type": "stream",
     "text": [
      "WARNING    <string>:23: RuntimeWarning: invalid value encountered in greater\n",
      " [py.warnings]\n",
      "WARNING:py.warnings:<string>:23: RuntimeWarning: invalid value encountered in greater\n",
      "\n"
     ]
    },
    {
     "name": "stdout",
     "output_type": "stream",
     "text": [
      "run number: 9 of 180000\n",
      "Starting simulation at t=4.5 s for a duration of 0.35 s\n"
     ]
    },
    {
     "name": "stderr",
     "output_type": "stream",
     "text": [
      "WARNING    <string>:23: RuntimeWarning: invalid value encountered in greater\n",
      " [py.warnings]\n",
      "WARNING:py.warnings:<string>:23: RuntimeWarning: invalid value encountered in greater\n",
      "\n"
     ]
    },
    {
     "name": "stdout",
     "output_type": "stream",
     "text": [
      "0.35 (100%) simulated in 2s\n",
      "number of spikes  [ 0  0  0  0  0  0  0  0  0  0  7  0  7  0  0  0  0  0  0  0  0  0  0  0\n",
      "  0  0  1  0  0  2  0  0  0  0  0  0  0  0  0  0  0  4  0  0  6  0  1  0\n",
      "  4  1  0  0  0  0  0  0  0  0  0  1  4  9  0  0  0  0  0  0  0  0  0  4\n",
      "  8  0  0  0  0 15  0  0  0  0  0  0  0  0  0  0  0  0  0  0  0  0  0  0\n",
      "  0  0  0  0  0  0  0  0  1  0  0  2  0  1  0  0  0  0  0  0  0  0  0  0\n",
      "  0  0  0  0  0  0  0  0  0  0  0  4  0  0  0  0  0  0  0  0  0  0  0  0\n",
      "  0  0  7  0  0  0  0  0  0  0  0  0  0  0  0  0  0  0  1  0  0  0  0  1\n",
      "  0  0  0  0  0  0  0  0  0  0  0  2  0  0  0  0  0  1  0  0  0  0  0  0\n",
      "  0  0  0  0  3  0  0  0  0  0  0  0  0  0  0  0  0  0  0  0  0  0  0  0\n",
      "  0  0  0  1  0  0  0  0  7  0  0  0  0  0  0  0  0  0  0  0  0  0  0  0\n",
      "  0  0  0  0  0  0  0  0  0  0  0  0  0  0  0  0  0  0  0  0  0  0  0  0\n",
      "  0  0  0  0  0  0  0  0  0  0  0  0  0  0  0  0  0  0  0  0  0  0  0  0\n",
      "  0  0  0  0  0  0  0  0  0  0  0  0  0  0  0  0  0  0  0  0  0  0  0  0\n",
      "  0  0  0  0  0  0  0  0  0  0  0  0  0  0  0  0  0  0  0  0  0  0  0  0\n",
      "  0  0  0  0  0  0  0  0  0  0  0  0  0  0  0  0  0  0  0  0  0  0  0  0\n",
      "  0  0  0  0  0  0  0  0  0  0  0  0  0  0  0  0  0  0  0  0  0  0  0  0\n",
      "  0  0  0  0  0  0  0  0  0  0  0  0  0  0  0  0]\n"
     ]
    },
    {
     "name": "stderr",
     "output_type": "stream",
     "text": [
      "WARNING    <string>:23: RuntimeWarning: invalid value encountered in greater\n",
      " [py.warnings]\n",
      "WARNING:py.warnings:<string>:23: RuntimeWarning: invalid value encountered in greater\n",
      "\n"
     ]
    },
    {
     "name": "stdout",
     "output_type": "stream",
     "text": [
      "run number: 10 of 180000\n",
      "Starting simulation at t=5. s for a duration of 0.35 s\n"
     ]
    },
    {
     "name": "stderr",
     "output_type": "stream",
     "text": [
      "WARNING    <string>:23: RuntimeWarning: invalid value encountered in greater\n",
      " [py.warnings]\n",
      "WARNING:py.warnings:<string>:23: RuntimeWarning: invalid value encountered in greater\n",
      "\n"
     ]
    },
    {
     "name": "stdout",
     "output_type": "stream",
     "text": [
      "0.35 (100%) simulated in 3s\n",
      "number of spikes  [ 0  0  0  0  0  0  0  0  0  0  7  0  9  0  0  0  0  0  0  0  0  0  0  0\n",
      "  0  0  1  0  0  2  0  0  0  0  0  0  0  0  0  0  0  4  0  0  6  0  1  0\n",
      "  4  1  0  0  0  1  0  0  0  0  0  1  4  9  0  0  0  0  0  0  0  0  0  4\n",
      " 11  0  0  0  0 15  0  0  0  0  0  0  0  0  0  0  0  0  0  0  0  0  0  0\n",
      "  0  0  0  1  0  0  0  0  1  0  0  2  0  1  0  0  0  0  0  0  0  0  0  0\n",
      "  0  0  0  0  0  0  0  0  0  0  0  4  0  0  0  0  0  0  0  0  0  0  0  0\n",
      "  0  0  7  0  0  0  0  0  0  0  0  0  0  0  0  0  0  0  1  0  0  0  0  1\n",
      "  0  0  0  0  0  0  0  0  0  0  0  2  0  0  0  0  0  1  0  0  0  0  0  0\n",
      "  2  0  0  0  3  0  0  0  0  0  0  0  0  0  0  0  0  0  0  0  0  0  0  0\n",
      "  0  0  0  1  0  0  0  0  7  0  0  0  0  0  0  0  0  0  0  0  0  0  0  0\n",
      "  0  0  0  0  0  0  0  0  0  0  0  0  0  0  0  0  0  0  0  0  0  0  0  0\n",
      "  0  0  0  0  0  0  0  0  0  0  0  0  0  0  0  0  0  0  0  0  0  0  0  0\n",
      "  0  0  0  0  0  0  0  0  0  0  0  0  0  0  0  0  0  0  0  0  0  0  0  0\n",
      "  0  0  0  0  0  0  0  0  0  0  0  0  0  0  0  0  0  0  0  0  0  0  0  0\n",
      "  0  0  0  0  0  0  0  0  0  0  0  0  0  0  0  0  0  0  0  0  0  0  0  0\n",
      "  0  0  0  0  0  0  0  0  0  0  0  0  0  0  0  0  0  0  0  0  0  0  0  0\n",
      "  0  0  0  0  0  0  0  0  0  0  0  0  0  0  0  0]\n"
     ]
    }
   ],
   "source": [
    "previous_spike_count = np.zeros(n_e)           # (400,)\n",
    "assignments = np.zeros(n_e)                   #  (400,)\n",
    "input_numbers = [0] * num_examples               # array 180000 long\n",
    "outputNumbers = np.zeros((num_examples, 10))    # (180000, 10)\n",
    "\n",
    "if not test_mode:\n",
    "    input_weight_monitor, fig_weights = plot_2d_input_weights()\n",
    "    fig_num += 1\n",
    "if do_plot_performance:\n",
    "    performance_monitor, performance, fig_num, fig_performance = plot_performance(fig_num)\n",
    "for i,name in enumerate(input_population_names):\n",
    "    input_groups[name+'e'].rates = 0 * Hz\n",
    "net.run(0*second)\n",
    "j = 0\n",
    "while j < (int(num_examples)):\n",
    "    if test_mode:\n",
    "        if use_testing_set:\n",
    "            spike_rates = testing['x'][j%10000,:,:].reshape((n_input)) / 8. *  input_intensity\n",
    "        else:\n",
    "            spike_rates = training['x'][j%60000,:,:].reshape((n_input)) / 8. *  input_intensity\n",
    "    else:\n",
    "        normalize_weights()\n",
    "        spike_rates = training['x'][j%60000,:,:].reshape((n_input)) / 8. *  input_intensity\n",
    "    input_groups['Xe'].rates = spike_rates * Hz\n",
    "    print('run number:', j+1, 'of', int(num_examples))\n",
    "    net.run(single_example_time, report='text')\n",
    "\n",
    "    if j % update_interval == 0 and j > 0:\n",
    "        assignments = get_new_assignments(result_monitor[:], input_numbers[j-update_interval : j])\n",
    "    if j % weight_update_interval == 0 and not test_mode:\n",
    "        update_2d_input_weights(input_weight_monitor, fig_weights)\n",
    "    if j % save_connections_interval == 0 and j > 0 and not test_mode:\n",
    "        save_connections(str(j))\n",
    "        save_theta(str(j))\n",
    "\n",
    "    current_spike_count = np.asarray(spike_counters['Ae'].count[:]) - previous_spike_count\n",
    "    previous_spike_count = np.copy(spike_counters['Ae'].count[:])\n",
    "    print(\"number of spikes \", spike_counters['Ae'].count[:])\n",
    "    if np.sum(current_spike_count) < 5:\n",
    "        input_intensity += 1\n",
    "        for i,name in enumerate(input_population_names):\n",
    "            input_groups[name+'e'].rates = 0 * Hz\n",
    "        net.run(resting_time)\n",
    "    else:\n",
    "        result_monitor[j%update_interval,:] = current_spike_count\n",
    "        if test_mode and use_testing_set:\n",
    "            input_numbers[j] = testing['y'][j%10000][0]\n",
    "        else:\n",
    "            input_numbers[j] = training['y'][j%60000][0]\n",
    "        outputNumbers[j,:] = get_recognized_number_ranking(assignments, result_monitor[j%update_interval,:])\n",
    "        if j % 100 == 0 and j > 0:\n",
    "            print('runs done:', j, 'of', int(num_examples))\n",
    "        if j % update_interval == 0 and j > 0:\n",
    "            if do_plot_performance:\n",
    "                unused, performance = update_performance_plot(performance_monitor, performance, j, fig_performance)\n",
    "                print('Classification performance', performance[:(j/float(update_interval))+1])\n",
    "        for i,name in enumerate(input_population_names):\n",
    "            input_groups[name+'e'].rates = 0 * Hz\n",
    "        net.run(resting_time)\n",
    "        input_intensity = start_input_intensity\n",
    "        j += 1"
   ]
  },
  {
   "cell_type": "code",
   "execution_count": null,
   "metadata": {},
   "outputs": [],
   "source": [
    "print 'save results'\n",
    "if not test_mode:\n",
    "    save_theta()\n",
    "if not test_mode:\n",
    "    save_connections()\n",
    "else:\n",
    "    np.save(data_path + 'activity/resultPopVecs' + str(num_examples), result_monitor)\n",
    "    np.save(data_path + 'activity/inputNumbers' + str(num_examples), input_numbers)\n"
   ]
  },
  {
   "cell_type": "code",
   "execution_count": null,
   "metadata": {},
   "outputs": [],
   "source": []
  },
  {
   "cell_type": "code",
   "execution_count": null,
   "metadata": {},
   "outputs": [],
   "source": [
    "np.zeros(n_e) .shape"
   ]
  },
  {
   "cell_type": "code",
   "execution_count": null,
   "metadata": {},
   "outputs": [],
   "source": [
    "len([0] * num_examples)"
   ]
  },
  {
   "cell_type": "code",
   "execution_count": null,
   "metadata": {},
   "outputs": [],
   "source": [
    "np.zeros((num_examples, 10)).shape"
   ]
  },
  {
   "cell_type": "code",
   "execution_count": null,
   "metadata": {},
   "outputs": [],
   "source": []
  },
  {
   "cell_type": "code",
   "execution_count": null,
   "metadata": {},
   "outputs": [],
   "source": []
  },
  {
   "cell_type": "code",
   "execution_count": null,
   "metadata": {},
   "outputs": [],
   "source": []
  }
 ],
 "metadata": {
  "kernelspec": {
   "display_name": "SNN simulator",
   "language": "python",
   "name": "sim"
  },
  "language_info": {
   "codemirror_mode": {
    "name": "ipython",
    "version": 3
   },
   "file_extension": ".py",
   "mimetype": "text/x-python",
   "name": "python",
   "nbconvert_exporter": "python",
   "pygments_lexer": "ipython3",
   "version": "3.6.8"
  }
 },
 "nbformat": 4,
 "nbformat_minor": 2
}
